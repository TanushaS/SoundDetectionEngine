{
 "cells": [
  {
   "cell_type": "code",
   "execution_count": 2,
   "metadata": {},
   "outputs": [],
   "source": [
    "import pandas as pd\n",
    "import os\n",
    "import librosa\n",
    "import numpy as np\n",
    "import tensorflow\n",
    "import keras\n",
    "\n",
    "#from Documents.helpers.wavfilehelper import WavFileHelper\n"
   ]
  },
  {
   "cell_type": "code",
   "execution_count": 6,
   "metadata": {},
   "outputs": [],
   "source": [
    "import struct\n",
    "\n",
    "class WavFileHelper():\n",
    "    \n",
    "    def read_file_properties(self, filename):\n",
    "\n",
    "        wave_file = open(filename,\"rb\")\n",
    "        \n",
    "        riff = wave_file.read(12)\n",
    "        fmt = wave_file.read(36)\n",
    "        \n",
    "        num_channels_string = fmt[10:12]\n",
    "        num_channels = struct.unpack('<H', num_channels_string)[0]\n",
    "\n",
    "        sample_rate_string = fmt[12:16]\n",
    "        sample_rate = struct.unpack(\"<I\",sample_rate_string)[0]\n",
    "        \n",
    "        bit_depth_string = fmt[22:24]\n",
    "        bit_depth = struct.unpack(\"<H\",bit_depth_string)[0]\n",
    "\n",
    "        return (num_channels, sample_rate, bit_depth)\n",
    "wavfilehelper = WavFileHelper()    "
   ]
  },
  {
   "cell_type": "code",
   "execution_count": 7,
   "metadata": {},
   "outputs": [],
   "source": [
    "audiodata = []\n",
    "# Set the path to the full UrbanSound dataset \n",
    "fulldatasetpath = 'G:/urban_dataset'\n",
    "\n",
    "metadata = pd.read_csv(fulldatasetpath + '/metadata/UrbanSound8K.csv')\n",
    "\n",
    "\n",
    "for index, row in metadata.iterrows():\n",
    "    \n",
    "    file_name = os.path.join(os.path.abspath('G:/urban_dataset/'),'fold'+str(row[\"fold\"])+'/',str(row[\"slice_file_name\"]))\n",
    "    data = wavfilehelper.read_file_properties(file_name)\n",
    "    audiodata.append(data)\n",
    "\n",
    "# Convert into a Panda dataframe\n",
    "audiodf = pd.DataFrame(audiodata, columns=['num_channels','sample_rate','bit_depth'])"
   ]
  },
  {
   "cell_type": "code",
   "execution_count": 9,
   "metadata": {},
   "outputs": [],
   "source": [
    "def extract_features(file_name):\n",
    "   \n",
    "    try:\n",
    "        audio, sample_rate = librosa.load(file_name, res_type='kaiser_fast') # default is Kaiser_best\n",
    "        mfccs = librosa.feature.mfcc(y=audio, sr=sample_rate, n_mfcc=40)\n",
    "        mfccsscaled = np.mean(mfccs.T,axis=0)\n",
    "        \n",
    "    except Exception as e:\n",
    "        print(\"Error encountered while parsing file: \", file)\n",
    "        return None \n",
    "     \n",
    "    return mfccsscaled"
   ]
  },
  {
   "cell_type": "code",
   "execution_count": 10,
   "metadata": {},
   "outputs": [
    {
     "name": "stdout",
     "output_type": "stream",
     "text": [
      "Finished feature extraction from  8732  files\n"
     ]
    }
   ],
   "source": [
    "# Set the path to the full UrbanSound dataset \n",
    "fulldatasetpath = 'G:/urban_dataset'\n",
    "\n",
    "metadata = pd.read_csv(fulldatasetpath + '/metadata/UrbanSound8K.csv')\n",
    "\n",
    "features = []\n",
    "for index, row in metadata.iterrows():\n",
    "    \n",
    "    file_name = os.path.join(os.path.abspath(fulldatasetpath),'fold'+str(row[\"fold\"])+'/',str(row[\"slice_file_name\"]))\n",
    "    \n",
    "    class_label = row[\"class\"]\n",
    "    data = extract_features(file_name)\n",
    "    \n",
    "    features.append([data, class_label])\n",
    "\n",
    "# Convert into a Panda dataframe \n",
    "featuresdf = pd.DataFrame(features, columns=['feature','class_label'])\n",
    "\n",
    "print('Finished feature extraction from ', len(featuresdf), ' files')"
   ]
  },
  {
   "cell_type": "code",
   "execution_count": 11,
   "metadata": {},
   "outputs": [],
   "source": [
    "from sklearn.preprocessing import LabelEncoder\n",
    "from keras.utils import to_categorical\n",
    "\n",
    "# Convert features and corresponding classification labels into numpy arrays\n",
    "X = np.array(featuresdf.feature.tolist())\n",
    "y = np.array(featuresdf.class_label.tolist())\n",
    "\n",
    "# Encode the classification labels\n",
    "le = LabelEncoder()\n",
    "yy = to_categorical(le.fit_transform(y)) \n",
    "\n",
    "# split the dataset \n",
    "from sklearn.model_selection import train_test_split \n",
    "\n",
    "x_train, x_test, y_train, y_test = train_test_split(X, yy, test_size=0.2, random_state = 42)"
   ]
  },
  {
   "cell_type": "code",
   "execution_count": 12,
   "metadata": {},
   "outputs": [],
   "source": [
    "import tensorflow as tf\n",
    "from keras.models import Sequential\n",
    "from keras.layers import Dense, Dropout,Convolution2D, MaxPooling2D\n",
    "from keras.optimizers import Adam\n",
    "from keras.callbacks import EarlyStopping\n",
    "from keras.models import model_from_json"
   ]
  },
  {
   "cell_type": "code",
   "execution_count": 14,
   "metadata": {},
   "outputs": [],
   "source": [
    "# neural network dimensions\n",
    "n_dim =x_train.shape[1]\n",
    "n_classes = y_train.shape[1]\n",
    "n_hidden_units_1 = n_dim\n",
    "n_hidden_units_2 = 400 # approx n_dim * 2\n",
    "n_hidden_units_3 = 200 # half of layer 2"
   ]
  },
  {
   "cell_type": "code",
   "execution_count": 15,
   "metadata": {},
   "outputs": [
    {
     "name": "stdout",
     "output_type": "stream",
     "text": [
      "40\n",
      "Features: 40 Classes: 10 \n"
     ]
    }
   ],
   "source": [
    "print(n_dim)\n",
    "print(\"Features: {} Classes: {} \".format(n_dim, n_classes))"
   ]
  },
  {
   "cell_type": "code",
   "execution_count": 16,
   "metadata": {},
   "outputs": [],
   "source": [
    "def create_model(activation_function='relu',init_type='normal', kernel_initializer=\"uniform\", optimiser='Adamax', dropout_rate=0.5):\n",
    "    model = Sequential()\n",
    "    # layer 1\n",
    "    #model.add(Convolution2D(n_hidden_units_1, input_dim=n_dim, activation=activation_function,kernel_initializer=\"uniform\"))\n",
    "    #model.add(MaxPooling2D(2,2))\n",
    "    model.add(Dense(n_hidden_units_1, input_dim=n_dim, init=init_type, activation=activation_function))\n",
    "    # layer 2\n",
    "    model.add(Dense(n_hidden_units_2, kernel_initializer=\"uniform\", activation=activation_function))\n",
    "    model.add(Dropout(dropout_rate))\n",
    "    # layer 3\n",
    "    model.add(Dense(n_hidden_units_3, kernel_initializer=\"uniform\" , activation=activation_function))\n",
    "    model.add(Dropout(dropout_rate))\n",
    "    # output layer\n",
    "    model.add(Dense(n_classes, kernel_initializer=\"uniform\", activation='softmax'))\n",
    "    \n",
    "    model.compile(loss='categorical_crossentropy', optimizer=optimiser, metrics=['accuracy'])\n",
    "    return model"
   ]
  },
  {
   "cell_type": "code",
   "execution_count": 17,
   "metadata": {},
   "outputs": [
    {
     "name": "stderr",
     "output_type": "stream",
     "text": [
      "C:\\Users\\Admin\\Anaconda3\\envs\\tensorflow\\lib\\site-packages\\ipykernel_launcher.py:6: UserWarning: Update your `Dense` call to the Keras 2 API: `Dense(40, input_dim=40, activation=\"relu\", kernel_initializer=\"normal\")`\n",
      "  \n"
     ]
    }
   ],
   "source": [
    "model = create_model()\n",
    "earlystop = EarlyStopping(monitor='val_loss', patience=3, verbose=0, mode='auto')"
   ]
  },
  {
   "cell_type": "code",
   "execution_count": 18,
   "metadata": {},
   "outputs": [
    {
     "name": "stdout",
     "output_type": "stream",
     "text": [
      "Model: \"sequential_1\"\n",
      "_________________________________________________________________\n",
      "Layer (type)                 Output Shape              Param #   \n",
      "=================================================================\n",
      "dense_1 (Dense)              (None, 40)                1640      \n",
      "_________________________________________________________________\n",
      "dense_2 (Dense)              (None, 400)               16400     \n",
      "_________________________________________________________________\n",
      "dropout_1 (Dropout)          (None, 400)               0         \n",
      "_________________________________________________________________\n",
      "dense_3 (Dense)              (None, 200)               80200     \n",
      "_________________________________________________________________\n",
      "dropout_2 (Dropout)          (None, 200)               0         \n",
      "_________________________________________________________________\n",
      "dense_4 (Dense)              (None, 10)                2010      \n",
      "=================================================================\n",
      "Total params: 100,250\n",
      "Trainable params: 100,250\n",
      "Non-trainable params: 0\n",
      "_________________________________________________________________\n"
     ]
    }
   ],
   "source": [
    "model.summary()"
   ]
  },
  {
   "cell_type": "code",
   "execution_count": 20,
   "metadata": {},
   "outputs": [
    {
     "name": "stdout",
     "output_type": "stream",
     "text": [
      "Train on 6286 samples, validate on 699 samples\n",
      "Epoch 1/30\n",
      "6286/6286 [==============================] - 3s 516us/step - loss: 1.8261 - acc: 0.3392 - val_loss: 1.4978 - val_acc: 0.4993\n",
      "Epoch 2/30\n",
      "6286/6286 [==============================] - 3s 418us/step - loss: 1.4312 - acc: 0.5060 - val_loss: 1.2692 - val_acc: 0.5908\n",
      "Epoch 3/30\n",
      "6286/6286 [==============================] - 2s 339us/step - loss: 1.2711 - acc: 0.5681 - val_loss: 1.1549 - val_acc: 0.6223\n",
      "Epoch 4/30\n",
      "6286/6286 [==============================] - 2s 334us/step - loss: 1.1750 - acc: 0.6090 - val_loss: 1.0848 - val_acc: 0.6495\n",
      "Epoch 5/30\n",
      "6286/6286 [==============================] - 2s 302us/step - loss: 1.0848 - acc: 0.6419 - val_loss: 1.0389 - val_acc: 0.6652\n",
      "Epoch 6/30\n",
      "6286/6286 [==============================] - 2s 321us/step - loss: 0.9956 - acc: 0.6699 - val_loss: 0.9789 - val_acc: 0.6795\n",
      "Epoch 7/30\n",
      "6286/6286 [==============================] - 2s 295us/step - loss: 0.9426 - acc: 0.6909 - val_loss: 0.9390 - val_acc: 0.6938\n",
      "Epoch 8/30\n",
      "6286/6286 [==============================] - 2s 304us/step - loss: 0.8858 - acc: 0.7089 - val_loss: 0.8765 - val_acc: 0.7182\n",
      "Epoch 9/30\n",
      "6286/6286 [==============================] - 2s 297us/step - loss: 0.8443 - acc: 0.7269 - val_loss: 0.8668 - val_acc: 0.7239\n",
      "Epoch 10/30\n",
      "6286/6286 [==============================] - 2s 301us/step - loss: 0.8167 - acc: 0.7326 - val_loss: 0.8095 - val_acc: 0.7396\n",
      "Epoch 11/30\n",
      "6286/6286 [==============================] - 2s 295us/step - loss: 0.7768 - acc: 0.7501 - val_loss: 0.8137 - val_acc: 0.7310\n",
      "Epoch 12/30\n",
      "6286/6286 [==============================] - 2s 289us/step - loss: 0.7485 - acc: 0.7490 - val_loss: 0.7605 - val_acc: 0.7525\n",
      "Epoch 13/30\n",
      "6286/6286 [==============================] - 2s 290us/step - loss: 0.7129 - acc: 0.7658 - val_loss: 0.7910 - val_acc: 0.7582\n",
      "Epoch 14/30\n",
      "6286/6286 [==============================] - 2s 296us/step - loss: 0.6834 - acc: 0.7749 - val_loss: 0.7632 - val_acc: 0.7797\n",
      "Epoch 15/30\n",
      "6286/6286 [==============================] - 2s 302us/step - loss: 0.6635 - acc: 0.7805 - val_loss: 0.7100 - val_acc: 0.7897\n",
      "Epoch 16/30\n",
      "6286/6286 [==============================] - 2s 285us/step - loss: 0.6469 - acc: 0.7844 - val_loss: 0.7321 - val_acc: 0.7840\n",
      "Epoch 17/30\n",
      "6286/6286 [==============================] - 2s 315us/step - loss: 0.6174 - acc: 0.7964 - val_loss: 0.6735 - val_acc: 0.7911\n",
      "Epoch 18/30\n",
      "6286/6286 [==============================] - 2s 315us/step - loss: 0.5934 - acc: 0.7994 - val_loss: 0.6740 - val_acc: 0.7940\n",
      "Epoch 19/30\n",
      "6286/6286 [==============================] - 2s 291us/step - loss: 0.5908 - acc: 0.8046 - val_loss: 0.6731 - val_acc: 0.7911\n",
      "Epoch 20/30\n",
      "6286/6286 [==============================] - 2s 298us/step - loss: 0.5627 - acc: 0.8080 - val_loss: 0.6435 - val_acc: 0.8097\n",
      "Epoch 21/30\n",
      "6286/6286 [==============================] - 2s 305us/step - loss: 0.5438 - acc: 0.8206 - val_loss: 0.6419 - val_acc: 0.8069\n",
      "Epoch 22/30\n",
      "6286/6286 [==============================] - 3s 417us/step - loss: 0.5371 - acc: 0.8153 - val_loss: 0.6408 - val_acc: 0.8026\n",
      "Epoch 23/30\n",
      "6286/6286 [==============================] - 3s 446us/step - loss: 0.5265 - acc: 0.8202 - val_loss: 0.6125 - val_acc: 0.8140\n",
      "Epoch 24/30\n",
      "6286/6286 [==============================] - 3s 406us/step - loss: 0.5139 - acc: 0.8279 - val_loss: 0.6224 - val_acc: 0.8026\n",
      "Epoch 25/30\n",
      "6286/6286 [==============================] - 3s 419us/step - loss: 0.4965 - acc: 0.8361 - val_loss: 0.6231 - val_acc: 0.8097\n",
      "Epoch 26/30\n",
      "6286/6286 [==============================] - 3s 411us/step - loss: 0.4897 - acc: 0.8314 - val_loss: 0.6244 - val_acc: 0.7983\n"
     ]
    }
   ],
   "source": [
    "history = model.fit(x_train, y_train, epochs=30, validation_split=0.1, callbacks=[earlystop], batch_size=24)"
   ]
  },
  {
   "cell_type": "code",
   "execution_count": null,
   "metadata": {},
   "outputs": [],
   "source": [
    "score, accuracy = model.evaluate(x = x_test, y = y_test , verbose = 1)\n",
    "print(\"ACCURACY:\",(accuracy*100))\n",
    "print(\"SCORE:\",score)"
   ]
  },
  {
   "cell_type": "code",
   "execution_count": 24,
   "metadata": {},
   "outputs": [
    {
     "name": "stdout",
     "output_type": "stream",
     "text": [
      "Saved model to disk\n"
     ]
    }
   ],
   "source": [
    "model.save(\"nn_mfcc_model.h5\")\n",
    "print(\"Saved model to disk\")"
   ]
  },
  {
   "cell_type": "code",
   "execution_count": 25,
   "metadata": {},
   "outputs": [
    {
     "name": "stdout",
     "output_type": "stream",
     "text": [
      "Model: \"sequential_1\"\n",
      "_________________________________________________________________\n",
      "Layer (type)                 Output Shape              Param #   \n",
      "=================================================================\n",
      "dense_1 (Dense)              (None, 40)                1640      \n",
      "_________________________________________________________________\n",
      "dense_2 (Dense)              (None, 400)               16400     \n",
      "_________________________________________________________________\n",
      "dropout_1 (Dropout)          (None, 400)               0         \n",
      "_________________________________________________________________\n",
      "dense_3 (Dense)              (None, 200)               80200     \n",
      "_________________________________________________________________\n",
      "dropout_2 (Dropout)          (None, 200)               0         \n",
      "_________________________________________________________________\n",
      "dense_4 (Dense)              (None, 10)                2010      \n",
      "=================================================================\n",
      "Total params: 100,250\n",
      "Trainable params: 100,250\n",
      "Non-trainable params: 0\n",
      "_________________________________________________________________\n",
      "acc: 84.20%\n"
     ]
    }
   ],
   "source": [
    "from numpy import loadtxt\n",
    "from keras.models import load_model\n",
    " \n",
    "# load model\n",
    "model = load_model('nn_mfcc_model.h5')\n",
    "# summarize model.\n",
    "model.summary()\n",
    "# load dataset\n",
    "\n",
    "# evaluate the model\n",
    "score = model.evaluate(x=x_test,y=y_test, verbose=0)\n",
    "print(\"%s: %.2f%%\" % (model.metrics_names[1], score[1]*100))"
   ]
  },
  {
   "cell_type": "code",
   "execution_count": null,
   "metadata": {},
   "outputs": [],
   "source": []
  }
 ],
 "metadata": {
  "kernelspec": {
   "display_name": "Python 3.6(tensorflow)",
   "language": "python",
   "name": "tensorflow"
  },
  "language_info": {
   "codemirror_mode": {
    "name": "ipython",
    "version": 3
   },
   "file_extension": ".py",
   "mimetype": "text/x-python",
   "name": "python",
   "nbconvert_exporter": "python",
   "pygments_lexer": "ipython3",
   "version": "3.6.9"
  }
 },
 "nbformat": 4,
 "nbformat_minor": 2
}
