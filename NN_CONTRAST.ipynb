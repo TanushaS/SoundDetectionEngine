{
 "cells": [
  {
   "cell_type": "code",
   "execution_count": 1,
   "metadata": {},
   "outputs": [
    {
     "name": "stderr",
     "output_type": "stream",
     "text": [
      "Using TensorFlow backend.\n"
     ]
    }
   ],
   "source": [
    "import pandas as pd\n",
    "import os\n",
    "import librosa\n",
    "import numpy as np\n",
    "import tensorflow\n",
    "import keras"
   ]
  },
  {
   "cell_type": "code",
   "execution_count": 2,
   "metadata": {},
   "outputs": [],
   "source": [
    "import struct\n",
    "\n",
    "class WavFileHelper():\n",
    "    \n",
    "    def read_file_properties(self, filename):\n",
    "\n",
    "        wave_file = open(filename,\"rb\")\n",
    "        \n",
    "        riff = wave_file.read(12)\n",
    "        fmt = wave_file.read(36)\n",
    "        \n",
    "        num_channels_string = fmt[10:12]\n",
    "        num_channels = struct.unpack('<H', num_channels_string)[0]\n",
    "\n",
    "        sample_rate_string = fmt[12:16]\n",
    "        sample_rate = struct.unpack(\"<I\",sample_rate_string)[0]\n",
    "        \n",
    "        bit_depth_string = fmt[22:24]\n",
    "        bit_depth = struct.unpack(\"<H\",bit_depth_string)[0]\n",
    "\n",
    "        return (num_channels, sample_rate, bit_depth)\n",
    "wavfilehelper = WavFileHelper()"
   ]
  },
  {
   "cell_type": "code",
   "execution_count": 3,
   "metadata": {},
   "outputs": [],
   "source": [
    "audiodata = []\n",
    "# Set the path to the full UrbanSound dataset \n",
    "fulldatasetpath = 'G:/urban_dataset'\n",
    "\n",
    "metadata = pd.read_csv(fulldatasetpath + '/metadata/UrbanSound8K.csv')\n",
    "\n",
    "\n",
    "for index, row in metadata.iterrows():\n",
    "    \n",
    "    file_name = os.path.join(os.path.abspath('G:/urban_dataset/'),'fold'+str(row[\"fold\"])+'/',str(row[\"slice_file_name\"]))\n",
    "    data = wavfilehelper.read_file_properties(file_name)\n",
    "    audiodata.append(data)\n",
    "\n",
    "# Convert into a Panda dataframe\n",
    "audiodf = pd.DataFrame(audiodata, columns=['num_channels','sample_rate','bit_depth'])"
   ]
  },
  {
   "cell_type": "code",
   "execution_count": 2,
   "metadata": {},
   "outputs": [],
   "source": [
    "def extract_features(file_name):\n",
    "   \n",
    "    try:\n",
    "        audio, sample_rate = librosa.load(file_name, res_type='kaiser_fast') # default is Kaiser_best\n",
    "        stft = np.abs(librosa.stft(audio))\n",
    "        contrast = np.mean(librosa.feature.spectral_contrast(S=stft, sr=sample_rate).T,axis=0)\n",
    "        \n",
    "    except Exception as e:\n",
    "        print(\"Error encountered while parsing file: \", file)\n",
    "        return None \n",
    "     \n",
    "    return contrast"
   ]
  },
  {
   "cell_type": "code",
   "execution_count": 3,
   "metadata": {},
   "outputs": [
    {
     "name": "stdout",
     "output_type": "stream",
     "text": [
      "Finished feature extraction from  8732  files\n"
     ]
    }
   ],
   "source": [
    "# Set the path to the full UrbanSound dataset \n",
    "fulldatasetpath = 'G:/urban_dataset'\n",
    "\n",
    "metadata = pd.read_csv(fulldatasetpath + '/metadata/UrbanSound8K.csv')\n",
    "\n",
    "features = []\n",
    "for index, row in metadata.iterrows():\n",
    "    \n",
    "    file_name = os.path.join(os.path.abspath(fulldatasetpath),'fold'+str(row[\"fold\"])+'/',str(row[\"slice_file_name\"]))\n",
    "    \n",
    "    class_label = row[\"class\"]\n",
    "    data = extract_features(file_name)\n",
    "    \n",
    "    features.append([data, class_label])\n",
    "\n",
    "# Convert into a Panda dataframe \n",
    "featuresdf = pd.DataFrame(features, columns=['feature','class_label'])\n",
    "\n",
    "print('Finished feature extraction from ', len(featuresdf), ' files')"
   ]
  },
  {
   "cell_type": "code",
   "execution_count": 4,
   "metadata": {},
   "outputs": [],
   "source": [
    "from sklearn.preprocessing import LabelEncoder\n",
    "from keras.utils import to_categorical\n",
    "\n",
    "# Convert features and corresponding classification labels into numpy arrays\n",
    "X = np.array(featuresdf.feature.tolist())\n",
    "y = np.array(featuresdf.class_label.tolist())\n",
    "\n",
    "# Encode the classification labels\n",
    "le = LabelEncoder()\n",
    "yy = to_categorical(le.fit_transform(y)) \n",
    "\n",
    "# split the dataset \n",
    "from sklearn.model_selection import train_test_split \n",
    "\n",
    "x_train, x_test, y_train, y_test = train_test_split(X, yy, test_size=0.2, random_state = 42)"
   ]
  },
  {
   "cell_type": "code",
   "execution_count": 7,
   "metadata": {},
   "outputs": [
    {
     "name": "stdout",
     "output_type": "stream",
     "text": [
      "[0. 0. 0. 1. 0. 0. 0. 0. 0. 0.]\n",
      "['dog_bark' 'children_playing' 'children_playing' ... 'car_horn'\n",
      " 'car_horn' 'car_horn']\n"
     ]
    }
   ],
   "source": [
    "print(yy[0])\n",
    "print(y)"
   ]
  },
  {
   "cell_type": "code",
   "execution_count": 9,
   "metadata": {},
   "outputs": [],
   "source": [
    "import tensorflow as tf\n",
    "from keras.models import Sequential\n",
    "from keras.layers import Dense, Dropout,Convolution2D, MaxPooling2D\n",
    "from keras.optimizers import Adam\n",
    "from keras.callbacks import EarlyStopping\n",
    "from keras.models import model_from_json"
   ]
  },
  {
   "cell_type": "code",
   "execution_count": 10,
   "metadata": {},
   "outputs": [],
   "source": [
    "# neural network dimensions\n",
    "n_dim =x_train.shape[1]\n",
    "n_classes = y_train.shape[1]\n",
    "n_hidden_units_1 = n_dim\n",
    "n_hidden_units_2 = 400 # approx n_dim * 2\n",
    "n_hidden_units_3 = 200 # half of layer 2"
   ]
  },
  {
   "cell_type": "code",
   "execution_count": 11,
   "metadata": {},
   "outputs": [
    {
     "name": "stdout",
     "output_type": "stream",
     "text": [
      "7\n",
      "Features: 7 Classes: 10 \n"
     ]
    }
   ],
   "source": [
    "print(n_dim)\n",
    "print(\"Features: {} Classes: {} \".format(n_dim, n_classes))"
   ]
  },
  {
   "cell_type": "code",
   "execution_count": 12,
   "metadata": {},
   "outputs": [],
   "source": [
    "def create_model(activation_function='relu',init_type='normal', kernel_initializer=\"uniform\", optimiser='Adamax', dropout_rate=0.5):\n",
    "    model = Sequential()\n",
    "    # layer 1\n",
    "    #model.add(Convolution2D(n_hidden_units_1, input_dim=n_dim, activation=activation_function,kernel_initializer=\"uniform\"))\n",
    "    #model.add(MaxPooling2D(2,2))\n",
    "    model.add(Dense(n_hidden_units_1, input_dim=n_dim, init=init_type, activation=activation_function))\n",
    "    # layer 2\n",
    "    model.add(Dense(n_hidden_units_2, kernel_initializer=\"uniform\", activation=activation_function))\n",
    "    model.add(Dropout(dropout_rate))\n",
    "    # layer 3\n",
    "    model.add(Dense(n_hidden_units_3, kernel_initializer=\"uniform\" , activation=activation_function))\n",
    "    model.add(Dropout(dropout_rate))\n",
    "    # output layer\n",
    "    model.add(Dense(n_classes, kernel_initializer=\"uniform\", activation='softmax'))\n",
    "    \n",
    "    model.compile(loss='categorical_crossentropy', optimizer=optimiser, metrics=['accuracy'])\n",
    "    return model"
   ]
  },
  {
   "cell_type": "code",
   "execution_count": 13,
   "metadata": {},
   "outputs": [
    {
     "name": "stderr",
     "output_type": "stream",
     "text": [
      "C:\\Users\\Admin\\Anaconda3\\envs\\tensorflow\\lib\\site-packages\\ipykernel_launcher.py:6: UserWarning: Update your `Dense` call to the Keras 2 API: `Dense(7, input_dim=7, activation=\"relu\", kernel_initializer=\"normal\")`\n",
      "  \n"
     ]
    }
   ],
   "source": [
    "model = create_model()\n",
    "earlystop = EarlyStopping(monitor='val_loss', patience=3, verbose=0, mode='auto')"
   ]
  },
  {
   "cell_type": "code",
   "execution_count": 14,
   "metadata": {},
   "outputs": [
    {
     "name": "stdout",
     "output_type": "stream",
     "text": [
      "Model: \"sequential_1\"\n",
      "_________________________________________________________________\n",
      "Layer (type)                 Output Shape              Param #   \n",
      "=================================================================\n",
      "dense_1 (Dense)              (None, 7)                 56        \n",
      "_________________________________________________________________\n",
      "dense_2 (Dense)              (None, 400)               3200      \n",
      "_________________________________________________________________\n",
      "dropout_1 (Dropout)          (None, 400)               0         \n",
      "_________________________________________________________________\n",
      "dense_3 (Dense)              (None, 200)               80200     \n",
      "_________________________________________________________________\n",
      "dropout_2 (Dropout)          (None, 200)               0         \n",
      "_________________________________________________________________\n",
      "dense_4 (Dense)              (None, 10)                2010      \n",
      "=================================================================\n",
      "Total params: 85,466\n",
      "Trainable params: 85,466\n",
      "Non-trainable params: 0\n",
      "_________________________________________________________________\n"
     ]
    }
   ],
   "source": [
    "model.summary()"
   ]
  },
  {
   "cell_type": "code",
   "execution_count": 15,
   "metadata": {},
   "outputs": [
    {
     "name": "stdout",
     "output_type": "stream",
     "text": [
      "Train on 6286 samples, validate on 699 samples\n",
      "Epoch 1/30\n",
      "6286/6286 [==============================] - 3s 430us/step - loss: 2.1862 - acc: 0.1669 - val_loss: 2.0146 - val_acc: 0.2275\n",
      "Epoch 2/30\n",
      "6286/6286 [==============================] - 3s 401us/step - loss: 2.0267 - acc: 0.2380 - val_loss: 1.9653 - val_acc: 0.2561\n",
      "Epoch 3/30\n",
      "6286/6286 [==============================] - 3s 411us/step - loss: 1.9913 - acc: 0.2553 - val_loss: 1.9428 - val_acc: 0.2904\n",
      "Epoch 4/30\n",
      "6286/6286 [==============================] - 2s 350us/step - loss: 1.9710 - acc: 0.2625 - val_loss: 1.9246 - val_acc: 0.2861\n",
      "Epoch 5/30\n",
      "6286/6286 [==============================] - 2s 359us/step - loss: 1.9652 - acc: 0.2684 - val_loss: 1.9083 - val_acc: 0.2704\n",
      "Epoch 6/30\n",
      "6286/6286 [==============================] - 2s 349us/step - loss: 1.9414 - acc: 0.2790 - val_loss: 1.8961 - val_acc: 0.2761\n",
      "Epoch 7/30\n",
      "6286/6286 [==============================] - 3s 405us/step - loss: 1.9230 - acc: 0.2778 - val_loss: 1.8917 - val_acc: 0.2961\n",
      "Epoch 8/30\n",
      "6286/6286 [==============================] - 2s 391us/step - loss: 1.9146 - acc: 0.2803 - val_loss: 1.8789 - val_acc: 0.3033\n",
      "Epoch 9/30\n",
      "6286/6286 [==============================] - 2s 388us/step - loss: 1.8933 - acc: 0.2935 - val_loss: 1.8721 - val_acc: 0.2976\n",
      "Epoch 10/30\n",
      "6286/6286 [==============================] - 2s 394us/step - loss: 1.8779 - acc: 0.3018 - val_loss: 1.8935 - val_acc: 0.2904\n",
      "Epoch 11/30\n",
      "6286/6286 [==============================] - 2s 396us/step - loss: 1.8628 - acc: 0.3075 - val_loss: 1.8471 - val_acc: 0.3247\n",
      "Epoch 12/30\n",
      "6286/6286 [==============================] - 2s 375us/step - loss: 1.8527 - acc: 0.3164 - val_loss: 1.8273 - val_acc: 0.3190\n",
      "Epoch 13/30\n",
      "6286/6286 [==============================] - 2s 386us/step - loss: 1.8350 - acc: 0.3156 - val_loss: 1.8166 - val_acc: 0.3405\n",
      "Epoch 14/30\n",
      "6286/6286 [==============================] - 2s 383us/step - loss: 1.8249 - acc: 0.3186 - val_loss: 1.8117 - val_acc: 0.3376\n",
      "Epoch 15/30\n",
      "6286/6286 [==============================] - 2s 384us/step - loss: 1.8219 - acc: 0.3209 - val_loss: 1.8093 - val_acc: 0.3348\n",
      "Epoch 16/30\n",
      "6286/6286 [==============================] - 2s 395us/step - loss: 1.8083 - acc: 0.3291 - val_loss: 1.7991 - val_acc: 0.3448\n",
      "Epoch 17/30\n",
      "6286/6286 [==============================] - 2s 391us/step - loss: 1.8023 - acc: 0.3339 - val_loss: 1.7885 - val_acc: 0.3362\n",
      "Epoch 18/30\n",
      "6286/6286 [==============================] - 3s 429us/step - loss: 1.7962 - acc: 0.3291 - val_loss: 1.7981 - val_acc: 0.3147\n",
      "Epoch 19/30\n",
      "6286/6286 [==============================] - 2s 396us/step - loss: 1.7886 - acc: 0.3301 - val_loss: 1.7751 - val_acc: 0.3333\n",
      "Epoch 20/30\n",
      "6286/6286 [==============================] - 3s 399us/step - loss: 1.7780 - acc: 0.3398 - val_loss: 1.7722 - val_acc: 0.3247\n",
      "Epoch 21/30\n",
      "6286/6286 [==============================] - 3s 407us/step - loss: 1.7732 - acc: 0.3439 - val_loss: 1.7641 - val_acc: 0.3577\n",
      "Epoch 22/30\n",
      "6286/6286 [==============================] - 3s 418us/step - loss: 1.7647 - acc: 0.3417 - val_loss: 1.7505 - val_acc: 0.3534\n",
      "Epoch 23/30\n",
      "6286/6286 [==============================] - 3s 423us/step - loss: 1.7649 - acc: 0.3476 - val_loss: 1.7754 - val_acc: 0.3205\n",
      "Epoch 24/30\n",
      "6286/6286 [==============================] - 2s 381us/step - loss: 1.7610 - acc: 0.3476 - val_loss: 1.7576 - val_acc: 0.3391\n",
      "Epoch 25/30\n",
      "6286/6286 [==============================] - 3s 430us/step - loss: 1.7462 - acc: 0.3517 - val_loss: 1.7711 - val_acc: 0.3476\n"
     ]
    }
   ],
   "source": [
    "history = model.fit(x_train, y_train, epochs=30, validation_split=0.1, callbacks=[earlystop], batch_size=24)"
   ]
  },
  {
   "cell_type": "code",
   "execution_count": 16,
   "metadata": {},
   "outputs": [
    {
     "name": "stdout",
     "output_type": "stream",
     "text": [
      "1747/1747 [==============================] - 0s 98us/step\n",
      "ACCURACY: 34.17286775967839\n",
      "SCORE: 1.7566056753747041\n"
     ]
    }
   ],
   "source": [
    "score, accuracy = model.evaluate(x = x_test, y = y_test , verbose = 1)\n",
    "print(\"ACCURACY:\",(accuracy*100))\n",
    "print(\"SCORE:\",score)"
   ]
  },
  {
   "cell_type": "code",
   "execution_count": 17,
   "metadata": {},
   "outputs": [
    {
     "name": "stdout",
     "output_type": "stream",
     "text": [
      "Saved model to disk\n"
     ]
    }
   ],
   "source": [
    "model.save(\"nn_contrast_model.h5\")\n",
    "print(\"Saved model to disk\")"
   ]
  },
  {
   "cell_type": "code",
   "execution_count": 18,
   "metadata": {},
   "outputs": [
    {
     "name": "stdout",
     "output_type": "stream",
     "text": [
      "Model: \"sequential_1\"\n",
      "_________________________________________________________________\n",
      "Layer (type)                 Output Shape              Param #   \n",
      "=================================================================\n",
      "dense_1 (Dense)              (None, 7)                 56        \n",
      "_________________________________________________________________\n",
      "dense_2 (Dense)              (None, 400)               3200      \n",
      "_________________________________________________________________\n",
      "dropout_1 (Dropout)          (None, 400)               0         \n",
      "_________________________________________________________________\n",
      "dense_3 (Dense)              (None, 200)               80200     \n",
      "_________________________________________________________________\n",
      "dropout_2 (Dropout)          (None, 200)               0         \n",
      "_________________________________________________________________\n",
      "dense_4 (Dense)              (None, 10)                2010      \n",
      "=================================================================\n",
      "Total params: 85,466\n",
      "Trainable params: 85,466\n",
      "Non-trainable params: 0\n",
      "_________________________________________________________________\n",
      "acc: 34.17%\n"
     ]
    }
   ],
   "source": [
    "from numpy import loadtxt\n",
    "from keras.models import load_model\n",
    " \n",
    "# load model\n",
    "model = load_model('nn_contrast_model.h5')\n",
    "# summarize model.\n",
    "model.summary()\n",
    "# load dataset\n",
    "\n",
    "# evaluate the model\n",
    "score = model.evaluate(x=x_test,y=y_test, verbose=0)\n",
    "print(\"%s: %.2f%%\" % (model.metrics_names[1], score[1]*100))"
   ]
  },
  {
   "cell_type": "code",
   "execution_count": null,
   "metadata": {},
   "outputs": [],
   "source": []
  }
 ],
 "metadata": {
  "kernelspec": {
   "display_name": "Python 3.6(tensorflow)",
   "language": "python",
   "name": "tensorflow"
  },
  "language_info": {
   "codemirror_mode": {
    "name": "ipython",
    "version": 3
   },
   "file_extension": ".py",
   "mimetype": "text/x-python",
   "name": "python",
   "nbconvert_exporter": "python",
   "pygments_lexer": "ipython3",
   "version": "3.6.9"
  }
 },
 "nbformat": 4,
 "nbformat_minor": 2
}
