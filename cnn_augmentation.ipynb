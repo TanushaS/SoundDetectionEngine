{
 "cells": [
  {
   "cell_type": "code",
   "execution_count": 1,
   "metadata": {},
   "outputs": [
    {
     "name": "stderr",
     "output_type": "stream",
     "text": [
      "Using TensorFlow backend.\n"
     ]
    }
   ],
   "source": [
    "import h5py\n",
    "import keras\n",
    "from keras.layers import Activation, Dense, Dropout, Conv2D, \\\n",
    "                         Flatten, MaxPooling2D\n",
    "from keras.models import Sequential\n",
    "import librosa\n",
    "import librosa.display\n",
    "import numpy as np\n",
    "import pandas as pd\n",
    "import random\n",
    "from keras.models import model_from_json\n",
    "from numpy import loadtxt\n",
    "import warnings\n",
    "warnings.filterwarnings('ignore')"
   ]
  },
  {
   "cell_type": "code",
   "execution_count": 2,
   "metadata": {},
   "outputs": [
    {
     "data": {
      "text/html": [
       "<div>\n",
       "<style scoped>\n",
       "    .dataframe tbody tr th:only-of-type {\n",
       "        vertical-align: middle;\n",
       "    }\n",
       "\n",
       "    .dataframe tbody tr th {\n",
       "        vertical-align: top;\n",
       "    }\n",
       "\n",
       "    .dataframe thead th {\n",
       "        text-align: right;\n",
       "    }\n",
       "</style>\n",
       "<table border=\"1\" class=\"dataframe\">\n",
       "  <thead>\n",
       "    <tr style=\"text-align: right;\">\n",
       "      <th></th>\n",
       "      <th>slice_file_name</th>\n",
       "      <th>fsID</th>\n",
       "      <th>start</th>\n",
       "      <th>end</th>\n",
       "      <th>salience</th>\n",
       "      <th>fold</th>\n",
       "      <th>classID</th>\n",
       "      <th>class</th>\n",
       "    </tr>\n",
       "  </thead>\n",
       "  <tbody>\n",
       "    <tr>\n",
       "      <td>0</td>\n",
       "      <td>100032-3-0-0.wav</td>\n",
       "      <td>100032</td>\n",
       "      <td>0.0</td>\n",
       "      <td>0.317551</td>\n",
       "      <td>1</td>\n",
       "      <td>5</td>\n",
       "      <td>3</td>\n",
       "      <td>dog_bark</td>\n",
       "    </tr>\n",
       "    <tr>\n",
       "      <td>1</td>\n",
       "      <td>100263-2-0-117.wav</td>\n",
       "      <td>100263</td>\n",
       "      <td>58.5</td>\n",
       "      <td>62.500000</td>\n",
       "      <td>1</td>\n",
       "      <td>5</td>\n",
       "      <td>2</td>\n",
       "      <td>children_playing</td>\n",
       "    </tr>\n",
       "    <tr>\n",
       "      <td>2</td>\n",
       "      <td>100263-2-0-121.wav</td>\n",
       "      <td>100263</td>\n",
       "      <td>60.5</td>\n",
       "      <td>64.500000</td>\n",
       "      <td>1</td>\n",
       "      <td>5</td>\n",
       "      <td>2</td>\n",
       "      <td>children_playing</td>\n",
       "    </tr>\n",
       "    <tr>\n",
       "      <td>3</td>\n",
       "      <td>100263-2-0-126.wav</td>\n",
       "      <td>100263</td>\n",
       "      <td>63.0</td>\n",
       "      <td>67.000000</td>\n",
       "      <td>1</td>\n",
       "      <td>5</td>\n",
       "      <td>2</td>\n",
       "      <td>children_playing</td>\n",
       "    </tr>\n",
       "    <tr>\n",
       "      <td>4</td>\n",
       "      <td>100263-2-0-137.wav</td>\n",
       "      <td>100263</td>\n",
       "      <td>68.5</td>\n",
       "      <td>72.500000</td>\n",
       "      <td>1</td>\n",
       "      <td>5</td>\n",
       "      <td>2</td>\n",
       "      <td>children_playing</td>\n",
       "    </tr>\n",
       "  </tbody>\n",
       "</table>\n",
       "</div>"
      ],
      "text/plain": [
       "      slice_file_name    fsID  start        end  salience  fold  classID  \\\n",
       "0    100032-3-0-0.wav  100032    0.0   0.317551         1     5        3   \n",
       "1  100263-2-0-117.wav  100263   58.5  62.500000         1     5        2   \n",
       "2  100263-2-0-121.wav  100263   60.5  64.500000         1     5        2   \n",
       "3  100263-2-0-126.wav  100263   63.0  67.000000         1     5        2   \n",
       "4  100263-2-0-137.wav  100263   68.5  72.500000         1     5        2   \n",
       "\n",
       "              class  \n",
       "0          dog_bark  \n",
       "1  children_playing  \n",
       "2  children_playing  \n",
       "3  children_playing  \n",
       "4  children_playing  "
      ]
     },
     "execution_count": 2,
     "metadata": {},
     "output_type": "execute_result"
    }
   ],
   "source": [
    "# Read Data\n",
    "#dataset=loadtxt(\"C:\\\\Users\\\\Admin\\\\urban_dataset\\\\metadata\\\\UrbanSound8K.csv\",delimiter=',')\n",
    "data = pd.read_csv('C:\\\\Users\\\\Admin\\\\urban_dataset\\\\metadata\\\\UrbanSound8K.csv')\n",
    "data.head(5)"
   ]
  },
  {
   "cell_type": "code",
   "execution_count": 3,
   "metadata": {},
   "outputs": [
    {
     "data": {
      "text/plain": [
       "(8732, 8)"
      ]
     },
     "execution_count": 3,
     "metadata": {},
     "output_type": "execute_result"
    }
   ],
   "source": [
    "data.shape"
   ]
  },
  {
   "cell_type": "code",
   "execution_count": 3,
   "metadata": {},
   "outputs": [
    {
     "data": {
      "text/html": [
       "<div>\n",
       "<style scoped>\n",
       "    .dataframe tbody tr th:only-of-type {\n",
       "        vertical-align: middle;\n",
       "    }\n",
       "\n",
       "    .dataframe tbody tr th {\n",
       "        vertical-align: top;\n",
       "    }\n",
       "\n",
       "    .dataframe thead th {\n",
       "        text-align: right;\n",
       "    }\n",
       "</style>\n",
       "<table border=\"1\" class=\"dataframe\">\n",
       "  <thead>\n",
       "    <tr style=\"text-align: right;\">\n",
       "      <th></th>\n",
       "      <th>slice_file_name</th>\n",
       "      <th>fold</th>\n",
       "      <th>classID</th>\n",
       "      <th>class</th>\n",
       "    </tr>\n",
       "  </thead>\n",
       "  <tbody>\n",
       "    <tr>\n",
       "      <td>1</td>\n",
       "      <td>100263-2-0-117.wav</td>\n",
       "      <td>5</td>\n",
       "      <td>2</td>\n",
       "      <td>children_playing</td>\n",
       "    </tr>\n",
       "    <tr>\n",
       "      <td>2</td>\n",
       "      <td>100263-2-0-121.wav</td>\n",
       "      <td>5</td>\n",
       "      <td>2</td>\n",
       "      <td>children_playing</td>\n",
       "    </tr>\n",
       "    <tr>\n",
       "      <td>3</td>\n",
       "      <td>100263-2-0-126.wav</td>\n",
       "      <td>5</td>\n",
       "      <td>2</td>\n",
       "      <td>children_playing</td>\n",
       "    </tr>\n",
       "    <tr>\n",
       "      <td>4</td>\n",
       "      <td>100263-2-0-137.wav</td>\n",
       "      <td>5</td>\n",
       "      <td>2</td>\n",
       "      <td>children_playing</td>\n",
       "    </tr>\n",
       "    <tr>\n",
       "      <td>5</td>\n",
       "      <td>100263-2-0-143.wav</td>\n",
       "      <td>5</td>\n",
       "      <td>2</td>\n",
       "      <td>children_playing</td>\n",
       "    </tr>\n",
       "  </tbody>\n",
       "</table>\n",
       "</div>"
      ],
      "text/plain": [
       "      slice_file_name  fold  classID             class\n",
       "1  100263-2-0-117.wav     5        2  children_playing\n",
       "2  100263-2-0-121.wav     5        2  children_playing\n",
       "3  100263-2-0-126.wav     5        2  children_playing\n",
       "4  100263-2-0-137.wav     5        2  children_playing\n",
       "5  100263-2-0-143.wav     5        2  children_playing"
      ]
     },
     "execution_count": 3,
     "metadata": {},
     "output_type": "execute_result"
    }
   ],
   "source": [
    "# Get data over 3 seconds long\n",
    "valid_data = data[['slice_file_name', 'fold' ,'classID', 'class']][ data['end']-data['start'] >= 3 ]\n",
    "valid_data.shape\n",
    "valid_data1 = data[['slice_file_name', 'fold' ,'classID', 'class']][ data['end']-data['start'] >= 3 ]\n",
    "valid_data1.shape\n",
    "valid_data1.head(5)"
   ]
  },
  {
   "cell_type": "code",
   "execution_count": 15,
   "metadata": {},
   "outputs": [
    {
     "data": {
      "text/plain": [
       "(128, 128)"
      ]
     },
     "execution_count": 15,
     "metadata": {},
     "output_type": "execute_result"
    }
   ],
   "source": [
    "# Example of a Siren spectrogram\n",
    "y, sr = librosa.load('C:\\\\Users\\\\Admin\\\\urban_dataset\\\\fold6\\\\135160-8-0-0.wav', duration=2.97)\n",
    "ps = librosa.feature.melspectrogram(y=y, sr=sr)\n",
    "ps.shape"
   ]
  },
  {
   "cell_type": "code",
   "execution_count": 16,
   "metadata": {},
   "outputs": [
    {
     "data": {
      "text/plain": [
       "<matplotlib.axes._subplots.AxesSubplot at 0xa58e2571d0>"
      ]
     },
     "execution_count": 16,
     "metadata": {},
     "output_type": "execute_result"
    },
    {
     "data": {
      "image/png": "[encoded data removed]",
      "text/plain": [
       "<Figure size 432x288 with 1 Axes>"
      ]
     },
     "metadata": {
      "needs_background": "light"
     },
     "output_type": "display_data"
    }
   ],
   "source": [
    "librosa.display.specshow(ps, y_axis='mel', x_axis='time')"
   ]
  },
  {
   "cell_type": "code",
   "execution_count": 9,
   "metadata": {},
   "outputs": [
    {
     "data": {
      "text/plain": [
       "(128, 128)"
      ]
     },
     "execution_count": 9,
     "metadata": {},
     "output_type": "execute_result"
    }
   ],
   "source": [
    "# Example of a AC spectrogram\n",
    "y, sr = librosa.load('C:/Users/Admin/urban_dataset/fold1/134717-0-0-19.wav', duration=2.97)\n",
    "ps = librosa.feature.melspectrogram(y=y, sr=sr)\n",
    "ps.shape"
   ]
  },
  {
   "cell_type": "code",
   "execution_count": 10,
   "metadata": {},
   "outputs": [
    {
     "data": {
      "text/plain": [
       "<matplotlib.axes._subplots.AxesSubplot at 0xa58ee4d0b8>"
      ]
     },
     "execution_count": 10,
     "metadata": {},
     "output_type": "execute_result"
    },
    {
     "data": {
      "image/png": "[encoded data removed]",
      "text/plain": [
       "<Figure size 432x288 with 1 Axes>"
      ]
     },
     "metadata": {
      "needs_background": "light"
     },
     "output_type": "display_data"
    }
   ],
   "source": [
    "librosa.display.specshow(ps, y_axis='mel', x_axis='time')"
   ]
  },
  {
   "cell_type": "code",
   "execution_count": 13,
   "metadata": {},
   "outputs": [
    {
     "data": {
      "text/plain": [
       "(128, 128)"
      ]
     },
     "execution_count": 13,
     "metadata": {},
     "output_type": "execute_result"
    }
   ],
   "source": [
    "# Example of a children playing spectrogram\n",
    "y, sr = librosa.load('C:/Users/Admin/urban_dataset/fold9/13579-2-0-16.wav', duration=2.97)\n",
    "ps = librosa.feature.melspectrogram(y=y, sr=sr)\n",
    "ps.shape"
   ]
  },
  {
   "cell_type": "code",
   "execution_count": 14,
   "metadata": {},
   "outputs": [
    {
     "data": {
      "text/plain": [
       "<matplotlib.axes._subplots.AxesSubplot at 0xa58e5111d0>"
      ]
     },
     "execution_count": 14,
     "metadata": {},
     "output_type": "execute_result"
    },
    {
     "data": {
      "image/png": "[encoded data removed]",
      "text/plain": [
       "<Figure size 432x288 with 1 Axes>"
      ]
     },
     "metadata": {
      "needs_background": "light"
     },
     "output_type": "display_data"
    }
   ],
   "source": [
    "librosa.display.specshow(ps, y_axis='mel', x_axis='time')"
   ]
  },
  {
   "cell_type": "code",
   "execution_count": 18,
   "metadata": {},
   "outputs": [
    {
     "data": {
      "text/plain": [
       "(128, 128)"
      ]
     },
     "execution_count": 18,
     "metadata": {},
     "output_type": "execute_result"
    }
   ],
   "source": [
    "# Example of a drilling spectrogram\n",
    "y, sr = librosa.load('C:/Users/Admin/urban_dataset/fold9/137815-4-0-0.wav', duration=2.97)\n",
    "ps = librosa.feature.melspectrogram(y=y, sr=sr)\n",
    "ps.shape"
   ]
  },
  {
   "cell_type": "code",
   "execution_count": 19,
   "metadata": {},
   "outputs": [
    {
     "data": {
      "text/plain": [
       "<matplotlib.axes._subplots.AxesSubplot at 0xa58e4415c0>"
      ]
     },
     "execution_count": 19,
     "metadata": {},
     "output_type": "execute_result"
    },
    {
     "data": {
      "image/png": "[encoded data removed]",
      "text/plain": [
       "<Figure size 432x288 with 1 Axes>"
      ]
     },
     "metadata": {
      "needs_background": "light"
     },
     "output_type": "display_data"
    }
   ],
   "source": [
    "librosa.display.specshow(ps, y_axis='mel', x_axis='time')"
   ]
  },
  {
   "cell_type": "code",
   "execution_count": 4,
   "metadata": {},
   "outputs": [],
   "source": [
    "valid_data['path'] = 'fold' + valid_data['fold'].astype('str') + '/' + valid_data['slice_file_name'].astype('str')"
   ]
  },
  {
   "cell_type": "code",
   "execution_count": 5,
   "metadata": {},
   "outputs": [],
   "source": [
    "D = [] # Dataset\n",
    "for row in valid_data.itertuples():\n",
    "    y, sr = librosa.load('C:/Users/Admin/urban_dataset/' + row.path, duration=2.97)  \n",
    "    ps = librosa.feature.melspectrogram(y=y, sr=sr)\n",
    "    if ps.shape != (128, 128): continue\n",
    "    D.append( (ps, row.classID) )   "
   ]
  },
  {
   "cell_type": "code",
   "execution_count": 6,
   "metadata": {},
   "outputs": [
    {
     "name": "stdout",
     "output_type": "stream",
     "text": [
      "Number of samples:  7467\n"
     ]
    }
   ],
   "source": [
    "print(\"Number of samples: \", len(D))"
   ]
  },
  {
   "cell_type": "code",
   "execution_count": 7,
   "metadata": {},
   "outputs": [],
   "source": [
    "dataset = D\n",
    "random.shuffle(dataset)\n",
    "\n",
    "train = dataset[:7000]\n",
    "test = dataset[7000:]\n",
    "\n",
    "X_train, y_train = zip(*train)\n",
    "X_test, y_test = zip(*test)\n",
    "\n",
    "# Reshape for CNN input\n",
    "X_train = np.array([x.reshape( (128, 128, 1) ) for x in X_train])\n",
    "X_test = np.array([x.reshape( (128, 128, 1) ) for x in X_test])\n",
    "\n",
    "# One-Hot encoding for classes\n",
    "y_train = np.array(keras.utils.to_categorical(y_train, 10))\n",
    "y_test = np.array(keras.utils.to_categorical(y_test, 10))"
   ]
  },
  {
   "cell_type": "code",
   "execution_count": 8,
   "metadata": {},
   "outputs": [],
   "source": [
    "model = Sequential()\n",
    "input_shape=(128, 128, 1)\n",
    "\n",
    "model.add(Conv2D(24, (5, 5), strides=(1, 1), input_shape=input_shape))\n",
    "model.add(MaxPooling2D((4, 2), strides=(4, 2)))\n",
    "model.add(Activation('relu'))\n",
    "\n",
    "model.add(Conv2D(48, (5, 5), padding=\"valid\"))\n",
    "model.add(MaxPooling2D((4, 2), strides=(4, 2)))\n",
    "model.add(Activation('relu'))\n",
    "\n",
    "model.add(Conv2D(48, (5, 5), padding=\"valid\"))\n",
    "model.add(Activation('relu'))\n",
    "\n",
    "model.add(Flatten())\n",
    "model.add(Dropout(rate=0.5))\n",
    "\n",
    "model.add(Dense(64))\n",
    "model.add(Activation('relu'))\n",
    "model.add(Dropout(rate=0.5))\n",
    "\n",
    "model.add(Dense(10))\n",
    "model.add(Activation('softmax'))"
   ]
  },
  {
   "cell_type": "code",
   "execution_count": 16,
   "metadata": {},
   "outputs": [
    {
     "name": "stdout",
     "output_type": "stream",
     "text": [
      "ACCURACY: %.2f%% 84.36830837670435\n"
     ]
    }
   ],
   "source": [
    "model.compile(loss='categorical_crossentropy',\n",
    "              optimizer='Adam',\n",
    "              metrics=['accuracy'])\n",
    "model.fit(x=X_train,\n",
    "          y=y_train,\n",
    "          epochs=12,\n",
    "          batch_size=128,\n",
    "          validation_data= (X_test, y_test),\n",
    "          verbose=0)\n",
    "scores=model.evaluate(x=X_test,\n",
    "                      y=y_test,\n",
    "                      verbose=0)\n",
    "\n",
    "print(\"ACCURACY: %.2f%%\",(scores[1]*100))"
   ]
  },
  {
   "cell_type": "code",
   "execution_count": 9,
   "metadata": {},
   "outputs": [],
   "source": [
    "model.compile(loss='categorical_crossentropy',\n",
    "              optimizer='Adam',\n",
    "              metrics=['accuracy'])"
   ]
  },
  {
   "cell_type": "code",
   "execution_count": 10,
   "metadata": {},
   "outputs": [
    {
     "name": "stdout",
     "output_type": "stream",
     "text": [
      "Train on 7000 samples, validate on 467 samples\n",
      "Epoch 1/12\n",
      "7000/7000 [==============================] - 535s 76ms/step - loss: 3.0024 - acc: 0.1824 - val_loss: 2.2142 - val_acc: 0.2099\n",
      "Epoch 2/12\n",
      "7000/7000 [==============================] - 464s 66ms/step - loss: 2.1785 - acc: 0.2200 - val_loss: 1.9882 - val_acc: 0.3169\n",
      "Epoch 3/12\n",
      "7000/7000 [==============================] - 471s 67ms/step - loss: 1.9304 - acc: 0.3006 - val_loss: 1.6995 - val_acc: 0.3747\n",
      "Epoch 4/12\n",
      "7000/7000 [==============================] - 468s 67ms/step - loss: 1.7628 - acc: 0.3597 - val_loss: 1.5587 - val_acc: 0.4475\n",
      "Epoch 5/12\n",
      "7000/7000 [==============================] - 459s 66ms/step - loss: 1.6658 - acc: 0.4054 - val_loss: 1.4467 - val_acc: 0.4839\n",
      "Epoch 6/12\n",
      "7000/7000 [==============================] - 462s 66ms/step - loss: 1.5556 - acc: 0.4523 - val_loss: 1.3817 - val_acc: 0.5418\n",
      "Epoch 7/12\n",
      "7000/7000 [==============================] - 460s 66ms/step - loss: 1.5044 - acc: 0.4746 - val_loss: 1.2993 - val_acc: 0.5717\n",
      "Epoch 8/12\n",
      "7000/7000 [==============================] - 465s 66ms/step - loss: 1.3937 - acc: 0.5099 - val_loss: 1.2212 - val_acc: 0.6124\n",
      "Epoch 9/12\n",
      "7000/7000 [==============================] - 458s 65ms/step - loss: 1.3301 - acc: 0.5340 - val_loss: 1.1779 - val_acc: 0.6274\n",
      "Epoch 10/12\n",
      "7000/7000 [==============================] - 506s 72ms/step - loss: 1.2867 - acc: 0.5549 - val_loss: 1.0853 - val_acc: 0.6488\n",
      "Epoch 11/12\n",
      "7000/7000 [==============================] - 459s 66ms/step - loss: 1.2056 - acc: 0.5843 - val_loss: 1.0049 - val_acc: 0.6745\n",
      "Epoch 12/12\n",
      "7000/7000 [==============================] - 465s 66ms/step - loss: 1.1254 - acc: 0.6136 - val_loss: 0.9883 - val_acc: 0.6574\n"
     ]
    },
    {
     "data": {
      "text/plain": [
       "<Figure size 640x480 with 1 Axes>"
      ]
     },
     "metadata": {},
     "output_type": "display_data"
    }
   ],
   "source": [
    "import keras\n",
    "from matplotlib import pyplot as plt\n",
    "history = model.fit(X_train, y_train,validation_data =(X_test,y_test), epochs=12, batch_size=128)\n",
    "plt.plot(history.history['acc'])\n",
    "plt.plot(history.history['val_acc'])\n",
    "plt.title('model accuracy')\n",
    "plt.ylabel('accuracy')\n",
    "plt.xlabel('epoch')\n",
    "plt.legend(['train', 'val'], loc='upper left')\n",
    "plt.show()"
   ]
  },
  {
   "cell_type": "code",
   "execution_count": 12,
   "metadata": {},
   "outputs": [
    {
     "data": {
      "image/png": "[encoded data removed]",
      "text/plain": [
       "<Figure size 432x288 with 1 Axes>"
      ]
     },
     "metadata": {
      "needs_background": "light"
     },
     "output_type": "display_data"
    }
   ],
   "source": [
    "plt.plot(history.history['acc'])\n",
    "plt.plot(history.history['val_acc'])\n",
    "plt.title('model accuracy')\n",
    "plt.ylabel('accuracy')\n",
    "plt.xlabel('epoch')\n",
    "plt.legend(['train', 'val'], loc='upper left')\n",
    "plt.show()"
   ]
  },
  {
   "cell_type": "code",
   "execution_count": 11,
   "metadata": {},
   "outputs": [
    {
     "data": {
      "image/png": "[encoded data removed]",
      "text/plain": [
       "<Figure size 432x288 with 1 Axes>"
      ]
     },
     "metadata": {
      "needs_background": "light"
     },
     "output_type": "display_data"
    }
   ],
   "source": [
    "plt.plot(history.history['loss'])\n",
    "plt.plot(history.history['val_loss'])\n",
    "plt.title('model loss')\n",
    "plt.ylabel('loss')\n",
    "plt.xlabel('epoch')\n",
    "plt.legend(['train', 'val'], loc='upper left')\n",
    "plt.show()"
   ]
  },
  {
   "cell_type": "code",
   "execution_count": 17,
   "metadata": {},
   "outputs": [
    {
     "name": "stdout",
     "output_type": "stream",
     "text": [
      "Saved\n",
      "Saved model to disk\n"
     ]
    }
   ],
   "source": [
    "\n",
    "model_json=model.to_json()\n",
    "with open(\"model1.json\",\"w\") as json_file:\n",
    "    json_file.write(model_json)\n",
    "model.save_weights(\"weights.h5\")\n",
    "print(\"Saved\")\n",
    "\n",
    "model.save(\"model.h5\")\n",
    "print(\"Saved model to disk\")"
   ]
  },
  {
   "cell_type": "code",
   "execution_count": 32,
   "metadata": {},
   "outputs": [
    {
     "name": "stdout",
     "output_type": "stream",
     "text": [
      "Train on 7000 samples, validate on 467 samples\n",
      "Epoch 1/12\n",
      "7000/7000 [==============================] - 526s 75ms/step - loss: 2.5332 - acc: 0.1784 - val_loss: 2.1524 - val_acc: 0.2677\n",
      "Epoch 2/12\n",
      "7000/7000 [==============================] - 468s 67ms/step - loss: 2.1108 - acc: 0.2669 - val_loss: 1.8621 - val_acc: 0.3747\n",
      "Epoch 3/12\n",
      "7000/7000 [==============================] - 459s 66ms/step - loss: 1.8388 - acc: 0.3429 - val_loss: 1.6778 - val_acc: 0.3919\n",
      "Epoch 4/12\n",
      "7000/7000 [==============================] - 470s 67ms/step - loss: 1.7245 - acc: 0.3854 - val_loss: 1.5637 - val_acc: 0.4668\n",
      "Epoch 5/12\n",
      "7000/7000 [==============================] - 461s 66ms/step - loss: 1.6279 - acc: 0.4100 - val_loss: 1.4720 - val_acc: 0.4989\n",
      "Epoch 6/12\n",
      "7000/7000 [==============================] - 468s 67ms/step - loss: 1.5349 - acc: 0.4567 - val_loss: 1.3550 - val_acc: 0.5161\n",
      "Epoch 7/12\n",
      "7000/7000 [==============================] - 476s 68ms/step - loss: 1.4509 - acc: 0.4830 - val_loss: 1.3045 - val_acc: 0.5567\n",
      "Epoch 8/12\n",
      "7000/7000 [==============================] - 463s 66ms/step - loss: 1.4026 - acc: 0.5111 - val_loss: 1.2889 - val_acc: 0.5867\n",
      "Epoch 9/12\n",
      "7000/7000 [==============================] - 464s 66ms/step - loss: 1.3335 - acc: 0.5396 - val_loss: 1.2151 - val_acc: 0.5953\n",
      "Epoch 10/12\n",
      "7000/7000 [==============================] - 465s 66ms/step - loss: 1.2629 - acc: 0.5551 - val_loss: 1.1641 - val_acc: 0.6338\n",
      "Epoch 11/12\n",
      "7000/7000 [==============================] - 467s 67ms/step - loss: 1.2052 - acc: 0.5841 - val_loss: 1.0862 - val_acc: 0.6467\n",
      "Epoch 12/12\n",
      "7000/7000 [==============================] - 459s 66ms/step - loss: 1.1265 - acc: 0.6084 - val_loss: 1.1616 - val_acc: 0.6488\n",
      "467/467 [==============================] - 12s 26ms/step\n",
      "Test loss: 1.1616359060785755\n",
      "Test accuracy: 0.648822268786216\n"
     ]
    }
   ],
   "source": [
    "model.compile(\n",
    "\toptimizer=\"Adam\",\n",
    "\tloss=\"categorical_crossentropy\",\n",
    "\tmetrics=['accuracy'])\n",
    "\n",
    "model.fit(\n",
    "\tx=X_train, \n",
    "\ty=y_train,\n",
    "    epochs=12,\n",
    "    batch_size=128,\n",
    "    validation_data= (X_test, y_test))\n",
    "\n",
    "score = model.evaluate(\n",
    "\tx=X_test,\n",
    "\ty=y_test)\n",
    "\n",
    "print('Test loss:', score[0])\n",
    "print('Test accuracy:', score[1])"
   ]
  },
  {
   "cell_type": "code",
   "execution_count": 20,
   "metadata": {},
   "outputs": [
    {
     "name": "stdout",
     "output_type": "stream",
     "text": [
      "Loaded model from disk\n",
      "ACCURACY %.2f%% 84.36830837670435\n"
     ]
    }
   ],
   "source": [
    "# load json and create model\n",
    "json_file = open('model1.json', 'r')\n",
    "loaded_model_json = json_file.read()\n",
    "json_file.close()\n",
    "loaded_model = model_from_json(loaded_model_json)\n",
    "# load weights into new model\n",
    "loaded_model.load_weights(\"weights.h5\")\n",
    "print(\"Loaded model from disk\")\n",
    " \n",
    "# evaluate loaded model on test data\n",
    "loaded_model.compile(loss='categorical_crossentropy', optimizer='Adam', metrics=['accuracy'])\n",
    "score = loaded_model.evaluate(x=X_test,y=y_test, verbose=0)\n",
    "print(\"ACCURACY %.2f%%\" , (score[1]*100))\n"
   ]
  },
  {
   "cell_type": "code",
   "execution_count": 21,
   "metadata": {},
   "outputs": [
    {
     "name": "stdout",
     "output_type": "stream",
     "text": [
      "Model: \"sequential_1\"\n",
      "_________________________________________________________________\n",
      "Layer (type)                 Output Shape              Param #   \n",
      "=================================================================\n",
      "conv2d_1 (Conv2D)            (None, 124, 124, 24)      624       \n",
      "_________________________________________________________________\n",
      "max_pooling2d_1 (MaxPooling2 (None, 31, 62, 24)        0         \n",
      "_________________________________________________________________\n",
      "activation_1 (Activation)    (None, 31, 62, 24)        0         \n",
      "_________________________________________________________________\n",
      "conv2d_2 (Conv2D)            (None, 27, 58, 48)        28848     \n",
      "_________________________________________________________________\n",
      "max_pooling2d_2 (MaxPooling2 (None, 6, 29, 48)         0         \n",
      "_________________________________________________________________\n",
      "activation_2 (Activation)    (None, 6, 29, 48)         0         \n",
      "_________________________________________________________________\n",
      "conv2d_3 (Conv2D)            (None, 2, 25, 48)         57648     \n",
      "_________________________________________________________________\n",
      "activation_3 (Activation)    (None, 2, 25, 48)         0         \n",
      "_________________________________________________________________\n",
      "flatten_1 (Flatten)          (None, 2400)              0         \n",
      "_________________________________________________________________\n",
      "dropout_1 (Dropout)          (None, 2400)              0         \n",
      "_________________________________________________________________\n",
      "dense_1 (Dense)              (None, 64)                153664    \n",
      "_________________________________________________________________\n",
      "activation_4 (Activation)    (None, 64)                0         \n",
      "_________________________________________________________________\n",
      "dropout_2 (Dropout)          (None, 64)                0         \n",
      "_________________________________________________________________\n",
      "dense_2 (Dense)              (None, 10)                650       \n",
      "_________________________________________________________________\n",
      "activation_5 (Activation)    (None, 10)                0         \n",
      "=================================================================\n",
      "Total params: 241,434\n",
      "Trainable params: 241,434\n",
      "Non-trainable params: 0\n",
      "_________________________________________________________________\n",
      "acc: 84.37%\n"
     ]
    }
   ],
   "source": [
    "# load and evaluate a saved model\n",
    "from numpy import loadtxt\n",
    "from keras.models import load_model\n",
    " \n",
    "# load model\n",
    "model = load_model('model.h5')\n",
    "# summarize model.\n",
    "model.summary()\n",
    "# load dataset\n",
    "\n",
    "# evaluate the model\n",
    "score = model.evaluate(x=X_test,y=y_test, verbose=0)\n",
    "print(\"%s: %.2f%%\" % (model.metrics_names[1], score[1]*100))"
   ]
  },
  {
   "cell_type": "code",
   "execution_count": 35,
   "metadata": {},
   "outputs": [],
   "source": [
    "y, sr = librosa.load('C:/Users/Admin/urban_dataset/fold1/14113-4-0-1.wav', duration=2.97)\n",
    "y_changed = librosa.effects.time_stretch(y, rate=0.81)\n",
    "librosa.output.write_wav('C:/Users/Admin/augmented/fold1/speed_81/14113-4-0-1.wav' ,y_changed, sr)"
   ]
  },
  {
   "cell_type": "code",
   "execution_count": 37,
   "metadata": {},
   "outputs": [],
   "source": [
    "rate = 1.07 # replace with 0.81 and execute again\n",
    "\n",
    "for row in valid_data.itertuples():\n",
    "    y, sr = librosa.load('C:/Users/Admin/urban_dataset/' + row.path)  \n",
    "    y_changed = librosa.effects.time_stretch(y, rate=rate)\n",
    "    librosa.output.write_wav('G:/augmented/fold' + str(row.fold) + '/speed_' + str(int(rate*100)) + '/' + row.slice_file_name ,y_changed, sr)"
   ]
  },
  {
   "cell_type": "code",
   "execution_count": 38,
   "metadata": {},
   "outputs": [],
   "source": [
    "n_steps = 2 #-1, -2, 2, 1\n",
    "\n",
    "for row in valid_data.itertuples():\n",
    "    y, sr = librosa.load('C:/Users/Admin/urban_dataset/' + row.path)  \n",
    "    y_changed = librosa.effects.pitch_shift(y, sr, n_steps=n_steps)\n",
    "    librosa.output.write_wav('G:/augmented/fold' + str(row.fold) + '/ps1_' + str(int(n_steps)) + '/' + row.slice_file_name ,y_changed, sr)"
   ]
  },
  {
   "cell_type": "code",
   "execution_count": 11,
   "metadata": {},
   "outputs": [],
   "source": [
    "n_steps = 2.5 #-2.5, -3.5, 2.5, 3.5\n",
    "\n",
    "for row in valid_data.itertuples():\n",
    "    y, sr = librosa.load('C:/Users/Admin/urban_dataset/' + row.path)  \n",
    "    y_changed = librosa.effects.pitch_shift(y, sr, n_steps=n_steps)\n",
    "    librosa.output.write_wav('G:/augmented/fold' + str(row.fold) + '/ps2_m' + str(int(n_steps*10)) + '/' + row.slice_file_name ,y_changed, sr)"
   ]
  },
  {
   "cell_type": "code",
   "execution_count": 12,
   "metadata": {},
   "outputs": [],
   "source": [
    "rate = 0.81 # replace with 0.81 and execute again\n",
    "\n",
    "for row in valid_data.itertuples():\n",
    "    y, sr = librosa.load('C:/Users/Admin/urban_dataset/' + row.path)  \n",
    "    y_changed = librosa.effects.time_stretch(y, rate=rate)\n",
    "    librosa.output.write_wav('G:/augmented/fold' + str(row.fold) + '/speed_' + str(int(rate*100)) + '/' + row.slice_file_name ,y_changed, sr)"
   ]
  },
  {
   "cell_type": "code",
   "execution_count": 25,
   "metadata": {},
   "outputs": [],
   "source": [
    "valid_data1['path'] = 'fold' + valid_data['fold'].astype('str') + '/' +'speed_81/'+ valid_data['slice_file_name'].astype('str')\n",
    "\n",
    "for row in valid_data1.itertuples():\n",
    "    y, sr = librosa.load('G:/augmented/' + row.path, duration=2.97)  \n",
    "    ps = librosa.feature.melspectrogram(y=y, sr=sr)\n",
    "    if ps.shape != (128, 128): continue\n",
    "    D.append( (ps, row.classID) )"
   ]
  },
  {
   "cell_type": "code",
   "execution_count": 28,
   "metadata": {},
   "outputs": [],
   "source": [
    "valid_data1['path'] = 'fold' + valid_data['fold'].astype('str') + '/' +'speed_107/'+ valid_data['slice_file_name'].astype('str')\n",
    "\n",
    "for row in valid_data1.itertuples():\n",
    "    y, sr = librosa.load('G:/augmented/' + row.path, duration=2.97)  \n",
    "    ps = librosa.feature.melspectrogram(y=y, sr=sr)\n",
    "    if ps.shape != (128, 128): continue\n",
    "    D.append( (ps, row.classID) )\n"
   ]
  },
  {
   "cell_type": "code",
   "execution_count": 26,
   "metadata": {},
   "outputs": [],
   "source": [
    "valid_data1['path'] = 'fold' + valid_data['fold'].astype('str') + '/' +'ps1_2/'+ valid_data['slice_file_name'].astype('str')\n",
    "\n",
    "for row in valid_data1.itertuples():\n",
    "    y, sr = librosa.load('G:/augmented/' + row.path, duration=2.97)  \n",
    "    ps = librosa.feature.melspectrogram(y=y, sr=sr)\n",
    "    if ps.shape != (128, 128): continue\n",
    "    D.append( (ps, row.classID) )"
   ]
  },
  {
   "cell_type": "code",
   "execution_count": 30,
   "metadata": {},
   "outputs": [],
   "source": [
    "valid_data1['path'] = 'fold' + valid_data['fold'].astype('str') + '/' +'ps2_m25/'+ valid_data['slice_file_name'].astype('str')\n",
    "\n",
    "for row in valid_data1.itertuples():\n",
    "    y, sr = librosa.load('G:/augmented/' + row.path, duration=2.97)  \n",
    "    ps = librosa.feature.melspectrogram(y=y, sr=sr)\n",
    "    if ps.shape != (128, 128): continue\n",
    "    D.append( (ps, row.classID) )"
   ]
  },
  {
   "cell_type": "code",
   "execution_count": 31,
   "metadata": {},
   "outputs": [
    {
     "data": {
      "text/plain": [
       "37303"
      ]
     },
     "execution_count": 31,
     "metadata": {},
     "output_type": "execute_result"
    }
   ],
   "source": [
    "len(D)"
   ]
  },
  {
   "cell_type": "code",
   "execution_count": 32,
   "metadata": {},
   "outputs": [],
   "source": [
    "dataset = D\n",
    "random.shuffle(dataset)\n",
    "\n",
    "train = dataset[:35000]\n",
    "test = dataset[35000:]\n",
    "\n",
    "X_train, y_train = zip(*train)\n",
    "X_test, y_test = zip(*test)\n",
    "\n",
    "X_train = np.array([x.reshape( (128, 128, 1) ) for x in X_train])\n",
    "X_test = np.array([x.reshape( (128, 128, 1) ) for x in X_test])\n",
    "\n",
    "y_train = np.array(keras.utils.to_categorical(y_train, 10))\n",
    "y_test = np.array(keras.utils.to_categorical(y_test, 10))"
   ]
  },
  {
   "cell_type": "code",
   "execution_count": 33,
   "metadata": {},
   "outputs": [],
   "source": [
    "model = Sequential()\n",
    "input_shape=(128, 128, 1)\n",
    "\n",
    "model.add(Conv2D(24, (5, 5), strides=(1, 1), input_shape=input_shape))\n",
    "model.add(MaxPooling2D((4, 2), strides=(4, 2)))\n",
    "model.add(Activation('relu'))\n",
    "\n",
    "model.add(Conv2D(48, (5, 5), padding=\"valid\"))\n",
    "model.add(MaxPooling2D((4, 2), strides=(4, 2)))\n",
    "model.add(Activation('relu'))\n",
    "\n",
    "model.add(Conv2D(48, (5, 5), padding=\"valid\"))\n",
    "model.add(Activation('relu'))\n",
    "\n",
    "model.add(Flatten())\n",
    "model.add(Dropout(rate=0.5))\n",
    "\n",
    "model.add(Dense(64))\n",
    "model.add(Activation('relu'))\n",
    "model.add(Dropout(rate=0.5))\n",
    "\n",
    "model.add(Dense(10))\n",
    "model.add(Activation('softmax'))"
   ]
  },
  {
   "cell_type": "code",
   "execution_count": 34,
   "metadata": {
    "scrolled": true
   },
   "outputs": [
    {
     "name": "stdout",
     "output_type": "stream",
     "text": [
      "Train on 35000 samples, validate on 2303 samples\n",
      "Epoch 1/12\n",
      "35000/35000 [==============================] - 4918s 141ms/step - loss: 2.0186 - acc: 0.3065 - val_loss: 1.4960 - val_acc: 0.4650\n",
      "Epoch 2/12\n",
      "35000/35000 [==============================] - 36086s 1s/step - loss: 1.4445 - acc: 0.4960 - val_loss: 1.2111 - val_acc: 0.5536\n",
      "Epoch 3/12\n",
      "35000/35000 [==============================] - 2868s 82ms/step - loss: 1.2039 - acc: 0.5838 - val_loss: 0.9834 - val_acc: 0.6665\n",
      "Epoch 4/12\n",
      "35000/35000 [==============================] - 3127s 89ms/step - loss: 1.0193 - acc: 0.6558 - val_loss: 0.8982 - val_acc: 0.6843\n",
      "Epoch 5/12\n",
      "35000/35000 [==============================] - 3184s 91ms/step - loss: 0.9060 - acc: 0.7000 - val_loss: 0.7276 - val_acc: 0.7647\n",
      "Epoch 6/12\n",
      "35000/35000 [==============================] - 3384s 97ms/step - loss: 0.8031 - acc: 0.7342 - val_loss: 0.6331 - val_acc: 0.7816\n",
      "Epoch 7/12\n",
      "35000/35000 [==============================] - 3092s 88ms/step - loss: 0.7462 - acc: 0.7581 - val_loss: 0.6604 - val_acc: 0.7681\n",
      "Epoch 8/12\n",
      "35000/35000 [==============================] - 2808s 80ms/step - loss: 0.6802 - acc: 0.7792 - val_loss: 0.5316 - val_acc: 0.8241\n",
      "Epoch 9/12\n",
      "35000/35000 [==============================] - 2843s 81ms/step - loss: 0.6422 - acc: 0.7925 - val_loss: 0.5073 - val_acc: 0.8337\n",
      "Epoch 10/12\n",
      "35000/35000 [==============================] - 3231s 92ms/step - loss: 0.5884 - acc: 0.8092 - val_loss: 0.4592 - val_acc: 0.8463\n",
      "Epoch 11/12\n",
      "35000/35000 [==============================] - 3248s 93ms/step - loss: 0.5621 - acc: 0.8155 - val_loss: 0.4175 - val_acc: 0.8611\n",
      "Epoch 12/12\n",
      "35000/35000 [==============================] - 2959s 85ms/step - loss: 0.5235 - acc: 0.8287 - val_loss: 0.4307 - val_acc: 0.8532\n",
      "2303/2303 [==============================] - 62s 27ms/step\n",
      "Test loss: 0.4307270808500463\n",
      "Test accuracy: 0.8532349106233326\n"
     ]
    }
   ],
   "source": [
    "\n",
    "model.compile(\n",
    "\toptimizer=\"Adam\",\n",
    "\tloss=\"categorical_crossentropy\",\n",
    "\tmetrics=['accuracy'])\n",
    "\n",
    "model.fit(\n",
    "\tx=X_train, \n",
    "\ty=y_train,\n",
    "    epochs=12,\n",
    "    batch_size=128,\n",
    "    validation_data= (X_test, y_test))\n",
    "\n",
    "score = model.evaluate(\n",
    "\tx=X_test,\n",
    "\ty=y_test)\n",
    "\n",
    "print('Test loss:', score[0])\n",
    "print('Test accuracy:', score[1])"
   ]
  },
  {
   "cell_type": "code",
   "execution_count": null,
   "metadata": {},
   "outputs": [],
   "source": [
    "from sklearn.metrics import confusion_matrix \n",
    "from sklearn.metrics import accuracy_score \n",
    "from sklearn.metrics import classification_report \n",
    " \n",
    "results = confusion_matrix(actual, predicted) \n",
    "print 'Confusion Matrix :'\n",
    "print(results) \n",
    "print 'Accuracy Score :',accuracy_score(actual, predicted) \n",
    "print 'Report : '\n",
    "print classification_report(actual, predicted) "
   ]
  }
 ],
 "metadata": {
  "kernelspec": {
   "display_name": "Python 3.6(tensorflow)",
   "language": "python",
   "name": "tensorflow"
  },
  "language_info": {
   "codemirror_mode": {
    "name": "ipython",
    "version": 3
   },
   "file_extension": ".py",
   "mimetype": "text/x-python",
   "name": "python",
   "nbconvert_exporter": "python",
   "pygments_lexer": "ipython3",
   "version": "3.6.9"
  }
 },
 "nbformat": 4,
 "nbformat_minor": 2
}
