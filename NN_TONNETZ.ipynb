{
 "cells": [
  {
   "cell_type": "code",
   "execution_count": 1,
   "metadata": {},
   "outputs": [
    {
     "name": "stderr",
     "output_type": "stream",
     "text": [
      "Using TensorFlow backend.\n"
     ]
    }
   ],
   "source": [
    "import pandas as pd\n",
    "import os\n",
    "import librosa\n",
    "import numpy as np\n",
    "import tensorflow\n",
    "import keras"
   ]
  },
  {
   "cell_type": "code",
   "execution_count": 2,
   "metadata": {},
   "outputs": [],
   "source": [
    "import struct\n",
    "\n",
    "class WavFileHelper():\n",
    "    \n",
    "    def read_file_properties(self, filename):\n",
    "\n",
    "        wave_file = open(filename,\"rb\")\n",
    "        \n",
    "        riff = wave_file.read(12)\n",
    "        fmt = wave_file.read(36)\n",
    "        \n",
    "        num_channels_string = fmt[10:12]\n",
    "        num_channels = struct.unpack('<H', num_channels_string)[0]\n",
    "\n",
    "        sample_rate_string = fmt[12:16]\n",
    "        sample_rate = struct.unpack(\"<I\",sample_rate_string)[0]\n",
    "        \n",
    "        bit_depth_string = fmt[22:24]\n",
    "        bit_depth = struct.unpack(\"<H\",bit_depth_string)[0]\n",
    "\n",
    "        return (num_channels, sample_rate, bit_depth)\n",
    "wavfilehelper = WavFileHelper() "
   ]
  },
  {
   "cell_type": "code",
   "execution_count": 3,
   "metadata": {},
   "outputs": [],
   "source": [
    "audiodata = []\n",
    "# Set the path to the full UrbanSound dataset \n",
    "fulldatasetpath = 'G:/urban_dataset'\n",
    "\n",
    "metadata = pd.read_csv(fulldatasetpath + '/metadata/UrbanSound8K.csv')\n",
    "\n",
    "\n",
    "for index, row in metadata.iterrows():\n",
    "    \n",
    "    file_name = os.path.join(os.path.abspath('G:/urban_dataset/'),'fold'+str(row[\"fold\"])+'/',str(row[\"slice_file_name\"]))\n",
    "    data = wavfilehelper.read_file_properties(file_name)\n",
    "    audiodata.append(data)\n",
    "\n",
    "# Convert into a Panda dataframe\n",
    "audiodf = pd.DataFrame(audiodata, columns=['num_channels','sample_rate','bit_depth'])"
   ]
  },
  {
   "cell_type": "code",
   "execution_count": 4,
   "metadata": {},
   "outputs": [],
   "source": [
    "def extract_features(file_name):\n",
    "   \n",
    "    try:\n",
    "        audio, sample_rate = librosa.load(file_name, res_type='kaiser_fast') # default is Kaiser_best\n",
    "        tonnetz = np.mean(librosa.feature.tonnetz(y=librosa.effects.harmonic(audio),\n",
    "        sr=sample_rate).T,axis=0)\n",
    "        \n",
    "    except Exception as e:\n",
    "        print(\"Error encountered while parsing file: \", file)\n",
    "        return None \n",
    "     \n",
    "    return tonnetz"
   ]
  },
  {
   "cell_type": "code",
   "execution_count": 5,
   "metadata": {},
   "outputs": [
    {
     "name": "stderr",
     "output_type": "stream",
     "text": [
      "C:\\Users\\Admin\\Anaconda3\\envs\\tensorflow\\lib\\site-packages\\librosa\\core\\pitch.py:146: UserWarning: Trying to estimate tuning from empty frequency set.\n",
      "  warnings.warn('Trying to estimate tuning from empty frequency set.')\n"
     ]
    },
    {
     "name": "stdout",
     "output_type": "stream",
     "text": [
      "Finished feature extraction from  8732  files\n"
     ]
    }
   ],
   "source": [
    "# Set the path to the full UrbanSound dataset \n",
    "fulldatasetpath = 'G:/urban_dataset'\n",
    "\n",
    "metadata = pd.read_csv(fulldatasetpath + '/metadata/UrbanSound8K.csv')\n",
    "\n",
    "features = []\n",
    "for index, row in metadata.iterrows():\n",
    "    \n",
    "    file_name = os.path.join(os.path.abspath(fulldatasetpath),'fold'+str(row[\"fold\"])+'/',str(row[\"slice_file_name\"]))\n",
    "    \n",
    "    class_label = row[\"class\"]\n",
    "    data = extract_features(file_name)\n",
    "    \n",
    "    features.append([data, class_label])\n",
    "\n",
    "# Convert into a Panda dataframe \n",
    "featuresdf = pd.DataFrame(features, columns=['feature','class_label'])\n",
    "\n",
    "print('Finished feature extraction from ', len(featuresdf), ' files')"
   ]
  },
  {
   "cell_type": "code",
   "execution_count": 6,
   "metadata": {},
   "outputs": [],
   "source": [
    "from sklearn.preprocessing import LabelEncoder\n",
    "from keras.utils import to_categorical\n",
    "\n",
    "# Convert features and corresponding classification labels into numpy arrays\n",
    "X = np.array(featuresdf.feature.tolist())\n",
    "y = np.array(featuresdf.class_label.tolist())\n",
    "\n",
    "# Encode the classification labels\n",
    "le = LabelEncoder()\n",
    "yy = to_categorical(le.fit_transform(y)) \n",
    "\n",
    "# split the dataset \n",
    "from sklearn.model_selection import train_test_split \n",
    "\n",
    "x_train, x_test, y_train, y_test = train_test_split(X, yy, test_size=0.2, random_state = 42)"
   ]
  },
  {
   "cell_type": "code",
   "execution_count": 7,
   "metadata": {},
   "outputs": [],
   "source": [
    "import tensorflow as tf\n",
    "from keras.models import Sequential\n",
    "from keras.layers import Dense, Dropout,Convolution2D, MaxPooling2D\n",
    "from keras.optimizers import Adam\n",
    "from keras.callbacks import EarlyStopping\n",
    "from keras.models import model_from_json"
   ]
  },
  {
   "cell_type": "code",
   "execution_count": 8,
   "metadata": {},
   "outputs": [],
   "source": [
    "# neural network dimensions\n",
    "n_dim =x_train.shape[1]\n",
    "n_classes = y_train.shape[1]\n",
    "n_hidden_units_1 = n_dim\n",
    "n_hidden_units_2 = 400 # approx n_dim * 2\n",
    "n_hidden_units_3 = 200 # half of layer 2"
   ]
  },
  {
   "cell_type": "code",
   "execution_count": 9,
   "metadata": {},
   "outputs": [
    {
     "name": "stdout",
     "output_type": "stream",
     "text": [
      "6\n",
      "Features: 6 Classes: 10 \n"
     ]
    }
   ],
   "source": [
    "print(n_dim)\n",
    "print(\"Features: {} Classes: {} \".format(n_dim, n_classes))"
   ]
  },
  {
   "cell_type": "code",
   "execution_count": 10,
   "metadata": {},
   "outputs": [],
   "source": [
    "def create_model(activation_function='relu',init_type='normal', kernel_initializer=\"uniform\", optimiser='Adamax', dropout_rate=0.5):\n",
    "    model = Sequential()\n",
    "    # layer 1\n",
    "    #model.add(Convolution2D(n_hidden_units_1, input_dim=n_dim, activation=activation_function,kernel_initializer=\"uniform\"))\n",
    "    #model.add(MaxPooling2D(2,2))\n",
    "    model.add(Dense(n_hidden_units_1, input_dim=n_dim, init=init_type, activation=activation_function))\n",
    "    # layer 2\n",
    "    model.add(Dense(n_hidden_units_2, kernel_initializer=\"uniform\", activation=activation_function))\n",
    "    model.add(Dropout(dropout_rate))\n",
    "    # layer 3\n",
    "    model.add(Dense(n_hidden_units_3, kernel_initializer=\"uniform\" , activation=activation_function))\n",
    "    model.add(Dropout(dropout_rate))\n",
    "    # output layer\n",
    "    model.add(Dense(n_classes, kernel_initializer=\"uniform\", activation='softmax'))\n",
    "    \n",
    "    model.compile(loss='categorical_crossentropy', optimizer=optimiser, metrics=['accuracy'])\n",
    "    return model"
   ]
  },
  {
   "cell_type": "code",
   "execution_count": 11,
   "metadata": {},
   "outputs": [
    {
     "name": "stderr",
     "output_type": "stream",
     "text": [
      "C:\\Users\\Admin\\Anaconda3\\envs\\tensorflow\\lib\\site-packages\\ipykernel_launcher.py:6: UserWarning: Update your `Dense` call to the Keras 2 API: `Dense(6, input_dim=6, activation=\"relu\", kernel_initializer=\"normal\")`\n",
      "  \n"
     ]
    }
   ],
   "source": [
    "model = create_model()\n",
    "earlystop = EarlyStopping(monitor='val_loss', patience=3, verbose=0, mode='auto')"
   ]
  },
  {
   "cell_type": "code",
   "execution_count": 12,
   "metadata": {},
   "outputs": [
    {
     "name": "stdout",
     "output_type": "stream",
     "text": [
      "Model: \"sequential_1\"\n",
      "_________________________________________________________________\n",
      "Layer (type)                 Output Shape              Param #   \n",
      "=================================================================\n",
      "dense_1 (Dense)              (None, 6)                 42        \n",
      "_________________________________________________________________\n",
      "dense_2 (Dense)              (None, 400)               2800      \n",
      "_________________________________________________________________\n",
      "dropout_1 (Dropout)          (None, 400)               0         \n",
      "_________________________________________________________________\n",
      "dense_3 (Dense)              (None, 200)               80200     \n",
      "_________________________________________________________________\n",
      "dropout_2 (Dropout)          (None, 200)               0         \n",
      "_________________________________________________________________\n",
      "dense_4 (Dense)              (None, 10)                2010      \n",
      "=================================================================\n",
      "Total params: 85,052\n",
      "Trainable params: 85,052\n",
      "Non-trainable params: 0\n",
      "_________________________________________________________________\n"
     ]
    }
   ],
   "source": [
    "model.summary()"
   ]
  },
  {
   "cell_type": "code",
   "execution_count": 13,
   "metadata": {},
   "outputs": [
    {
     "name": "stdout",
     "output_type": "stream",
     "text": [
      "Train on 6286 samples, validate on 699 samples\n",
      "Epoch 1/30\n",
      "6286/6286 [==============================] - 3s 406us/step - loss: 2.2709 - acc: 0.1147 - val_loss: 2.2497 - val_acc: 0.0987\n",
      "Epoch 2/30\n",
      "6286/6286 [==============================] - 2s 355us/step - loss: 2.2634 - acc: 0.1110 - val_loss: 2.2493 - val_acc: 0.1102\n",
      "Epoch 3/30\n",
      "6286/6286 [==============================] - 2s 361us/step - loss: 2.2630 - acc: 0.1115 - val_loss: 2.2500 - val_acc: 0.1116\n",
      "Epoch 4/30\n",
      "6286/6286 [==============================] - 3s 403us/step - loss: 2.2608 - acc: 0.1147 - val_loss: 2.2470 - val_acc: 0.1102\n",
      "Epoch 5/30\n",
      "6286/6286 [==============================] - 2s 345us/step - loss: 2.2574 - acc: 0.1153 - val_loss: 2.2402 - val_acc: 0.1159\n",
      "Epoch 6/30\n",
      "6286/6286 [==============================] - 2s 353us/step - loss: 2.2538 - acc: 0.1187 - val_loss: 2.2383 - val_acc: 0.1102\n",
      "Epoch 7/30\n",
      "6286/6286 [==============================] - 2s 353us/step - loss: 2.2456 - acc: 0.1290 - val_loss: 2.2274 - val_acc: 0.1102\n",
      "Epoch 8/30\n",
      "6286/6286 [==============================] - 2s 343us/step - loss: 2.2328 - acc: 0.1408 - val_loss: 2.2140 - val_acc: 0.1416\n",
      "Epoch 9/30\n",
      "6286/6286 [==============================] - 2s 349us/step - loss: 2.2239 - acc: 0.1597 - val_loss: 2.2055 - val_acc: 0.1516\n",
      "Epoch 10/30\n",
      "6286/6286 [==============================] - 2s 371us/step - loss: 2.2181 - acc: 0.1621 - val_loss: 2.2019 - val_acc: 0.1660\n",
      "Epoch 11/30\n",
      "6286/6286 [==============================] - 2s 358us/step - loss: 2.2132 - acc: 0.1661 - val_loss: 2.1962 - val_acc: 0.1688\n",
      "Epoch 12/30\n",
      "6286/6286 [==============================] - 2s 355us/step - loss: 2.2059 - acc: 0.1689 - val_loss: 2.1915 - val_acc: 0.1702\n",
      "Epoch 13/30\n",
      "6286/6286 [==============================] - 2s 374us/step - loss: 2.1963 - acc: 0.1729 - val_loss: 2.1832 - val_acc: 0.1702\n",
      "Epoch 14/30\n",
      "6286/6286 [==============================] - 2s 374us/step - loss: 2.1922 - acc: 0.1713 - val_loss: 2.1767 - val_acc: 0.1660\n",
      "Epoch 15/30\n",
      "6286/6286 [==============================] - 2s 373us/step - loss: 2.1812 - acc: 0.1814 - val_loss: 2.1772 - val_acc: 0.1760\n",
      "Epoch 16/30\n",
      "6286/6286 [==============================] - 2s 380us/step - loss: 2.1756 - acc: 0.1812 - val_loss: 2.1661 - val_acc: 0.1845\n",
      "Epoch 17/30\n",
      "6286/6286 [==============================] - 2s 358us/step - loss: 2.1704 - acc: 0.1817 - val_loss: 2.1653 - val_acc: 0.1831\n",
      "Epoch 18/30\n",
      "6286/6286 [==============================] - 2s 373us/step - loss: 2.1689 - acc: 0.1812 - val_loss: 2.1620 - val_acc: 0.1803\n",
      "Epoch 19/30\n",
      "6286/6286 [==============================] - 2s 368us/step - loss: 2.1667 - acc: 0.1812 - val_loss: 2.1617 - val_acc: 0.1831\n",
      "Epoch 20/30\n",
      "6286/6286 [==============================] - 3s 431us/step - loss: 2.1642 - acc: 0.1850 - val_loss: 2.1629 - val_acc: 0.1860\n",
      "Epoch 21/30\n",
      "6286/6286 [==============================] - 2s 392us/step - loss: 2.1643 - acc: 0.1801 - val_loss: 2.1653 - val_acc: 0.1946\n",
      "Epoch 22/30\n",
      "6286/6286 [==============================] - 2s 392us/step - loss: 2.1642 - acc: 0.1802 - val_loss: 2.1597 - val_acc: 0.1860\n",
      "Epoch 23/30\n",
      "6286/6286 [==============================] - 2s 391us/step - loss: 2.1628 - acc: 0.1836 - val_loss: 2.1623 - val_acc: 0.1931\n",
      "Epoch 24/30\n",
      "6286/6286 [==============================] - 3s 401us/step - loss: 2.1603 - acc: 0.1814 - val_loss: 2.1602 - val_acc: 0.1817\n",
      "Epoch 25/30\n",
      "6286/6286 [==============================] - 3s 461us/step - loss: 2.1617 - acc: 0.1793 - val_loss: 2.1583 - val_acc: 0.1874\n",
      "Epoch 26/30\n",
      "6286/6286 [==============================] - 2s 388us/step - loss: 2.1617 - acc: 0.1829 - val_loss: 2.1577 - val_acc: 0.1745\n",
      "Epoch 27/30\n",
      "6286/6286 [==============================] - 2s 394us/step - loss: 2.1597 - acc: 0.1817 - val_loss: 2.1567 - val_acc: 0.1888\n",
      "Epoch 28/30\n",
      "6286/6286 [==============================] - 2s 394us/step - loss: 2.1553 - acc: 0.1868 - val_loss: 2.1571 - val_acc: 0.1860\n",
      "Epoch 29/30\n",
      "6286/6286 [==============================] - 3s 416us/step - loss: 2.1563 - acc: 0.1817 - val_loss: 2.1566 - val_acc: 0.1931\n",
      "Epoch 30/30\n",
      "6286/6286 [==============================] - 3s 413us/step - loss: 2.1535 - acc: 0.1801 - val_loss: 2.1558 - val_acc: 0.1888\n"
     ]
    }
   ],
   "source": [
    "history = model.fit(x_train, y_train, epochs=30, validation_split=0.1, callbacks=[earlystop], batch_size=24)"
   ]
  },
  {
   "cell_type": "code",
   "execution_count": 14,
   "metadata": {},
   "outputs": [
    {
     "name": "stdout",
     "output_type": "stream",
     "text": [
      "1747/1747 [==============================] - 0s 107us/step\n",
      "ACCURACY: 16.94333142700643\n",
      "SCORE: 2.1650471442347605\n"
     ]
    }
   ],
   "source": [
    "score, accuracy = model.evaluate(x = x_test, y = y_test , verbose = 1)\n",
    "print(\"ACCURACY:\",(accuracy*100))\n",
    "print(\"SCORE:\",score)"
   ]
  },
  {
   "cell_type": "code",
   "execution_count": 15,
   "metadata": {},
   "outputs": [
    {
     "name": "stdout",
     "output_type": "stream",
     "text": [
      "Saved model to disk\n"
     ]
    }
   ],
   "source": [
    "model.save(\"nn_tonnetz_model.h5\")\n",
    "print(\"Saved model to disk\")"
   ]
  },
  {
   "cell_type": "code",
   "execution_count": 16,
   "metadata": {},
   "outputs": [
    {
     "name": "stdout",
     "output_type": "stream",
     "text": [
      "Model: \"sequential_1\"\n",
      "_________________________________________________________________\n",
      "Layer (type)                 Output Shape              Param #   \n",
      "=================================================================\n",
      "dense_1 (Dense)              (None, 6)                 42        \n",
      "_________________________________________________________________\n",
      "dense_2 (Dense)              (None, 400)               2800      \n",
      "_________________________________________________________________\n",
      "dropout_1 (Dropout)          (None, 400)               0         \n",
      "_________________________________________________________________\n",
      "dense_3 (Dense)              (None, 200)               80200     \n",
      "_________________________________________________________________\n",
      "dropout_2 (Dropout)          (None, 200)               0         \n",
      "_________________________________________________________________\n",
      "dense_4 (Dense)              (None, 10)                2010      \n",
      "=================================================================\n",
      "Total params: 85,052\n",
      "Trainable params: 85,052\n",
      "Non-trainable params: 0\n",
      "_________________________________________________________________\n",
      "acc: 16.94%\n"
     ]
    }
   ],
   "source": [
    "from numpy import loadtxt\n",
    "from keras.models import load_model\n",
    " \n",
    "# load model\n",
    "model = load_model('nn_tonnetz_model.h5')\n",
    "# summarize model.\n",
    "model.summary()\n",
    "# load dataset\n",
    "\n",
    "# evaluate the model\n",
    "score = model.evaluate(x=x_test,y=y_test, verbose=0)\n",
    "print(\"%s: %.2f%%\" % (model.metrics_names[1], score[1]*100))"
   ]
  },
  {
   "cell_type": "code",
   "execution_count": null,
   "metadata": {},
   "outputs": [],
   "source": []
  }
 ],
 "metadata": {
  "kernelspec": {
   "display_name": "Python 3.6(tensorflow)",
   "language": "python",
   "name": "tensorflow"
  },
  "language_info": {
   "codemirror_mode": {
    "name": "ipython",
    "version": 3
   },
   "file_extension": ".py",
   "mimetype": "text/x-python",
   "name": "python",
   "nbconvert_exporter": "python",
   "pygments_lexer": "ipython3",
   "version": "3.6.9"
  }
 },
 "nbformat": 4,
 "nbformat_minor": 2
}
