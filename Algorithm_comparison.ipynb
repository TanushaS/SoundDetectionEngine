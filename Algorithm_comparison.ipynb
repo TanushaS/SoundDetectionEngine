{
 "cells": [
  {
   "cell_type": "code",
   "execution_count": 2,
   "metadata": {},
   "outputs": [],
   "source": [
    "# Compare Algorithms\n",
    "import pandas\n",
    "import matplotlib.pyplot as plt\n"
   ]
  },
  {
   "cell_type": "code",
   "execution_count": 3,
   "metadata": {},
   "outputs": [
    {
     "name": "stderr",
     "output_type": "stream",
     "text": [
      "Using TensorFlow backend.\n"
     ]
    }
   ],
   "source": [
    "from numpy import loadtxt\n",
    "from keras.models import load_model\n",
    " \n",
    "# load models\n",
    "mfccmodel = load_model('nn_mfcc_model.h5')\n",
    "melmodel=load_model('nn_mel_model.h5')\n",
    "chromamodel=load_model('nn_chroma_model.h5')\n",
    "tonnetzmodel=load_model('nn_tonnetz_model.h5')\n",
    "contrastmodel=load_model('nn_contrast_model.h5')\n"
   ]
  },
  {
   "cell_type": "code",
   "execution_count": 4,
   "metadata": {},
   "outputs": [],
   "source": [
    "import pandas as pd\n",
    "import os\n",
    "import librosa\n",
    "import numpy as np\n",
    "import tensorflow\n",
    "import keras"
   ]
  },
  {
   "cell_type": "code",
   "execution_count": 5,
   "metadata": {},
   "outputs": [],
   "source": [
    "def extract_mfcc(file_name):\n",
    "   \n",
    "    try:\n",
    "        audio, sample_rate = librosa.load(file_name, res_type='kaiser_fast') # default is Kaiser_best\n",
    "        mfccs = librosa.feature.mfcc(y=audio, sr=sample_rate, n_mfcc=40)\n",
    "        mfccsscaled = np.mean(mfccs.T,axis=0)\n",
    "        \n",
    "    except Exception as e:\n",
    "        print(\"Error encountered while parsing file: \", file)\n",
    "        return None \n",
    "     \n",
    "    return mfccsscaled\n",
    "\n",
    "def extract_mel(file_name):\n",
    "   \n",
    "    try:\n",
    "        audio, sample_rate = librosa.load(file_name, res_type='kaiser_fast') # default is Kaiser_best\n",
    "        mel = np.mean(librosa.feature.melspectrogram(audio, sr=sample_rate).T,axis=0)\n",
    "        \n",
    "    except Exception as e:\n",
    "        print(\"Error encountered while parsing file: \", file)\n",
    "        return None \n",
    "     \n",
    "    return mel\n",
    "\n",
    "def extract_contrast(file_name):\n",
    "   \n",
    "    try:\n",
    "        audio, sample_rate = librosa.load(file_name, res_type='kaiser_fast') # default is Kaiser_best\n",
    "        stft = np.abs(librosa.stft(audio))\n",
    "        contrast = np.mean(librosa.feature.spectral_contrast(S=stft, sr=sample_rate).T,axis=0)\n",
    "        \n",
    "    except Exception as e:\n",
    "        print(\"Error encountered while parsing file: \", file)\n",
    "        return None \n",
    "     \n",
    "    return contrast\n",
    "\n",
    "def extract_chroma(file_name):\n",
    "   \n",
    "    try:\n",
    "        audio, sample_rate = librosa.load(file_name, res_type='kaiser_fast') # default is Kaiser_best\n",
    "        stft = np.abs(librosa.stft(audio))\n",
    "        chroma = np.mean(librosa.feature.chroma_stft(S=stft, sr=sample_rate).T,axis=0)\n",
    "        \n",
    "    except Exception as e:\n",
    "        print(\"Error encountered while parsing file: \", file)\n",
    "        return None \n",
    "     \n",
    "    return chroma\n",
    "\n",
    "def extract_tonnetz(file_name):\n",
    "   \n",
    "    try:\n",
    "        audio, sample_rate = librosa.load(file_name, res_type='kaiser_fast') # default is Kaiser_best\n",
    "        tonnetz = np.mean(librosa.feature.tonnetz(y=librosa.effects.harmonic(audio),\n",
    "        sr=sample_rate).T,axis=0)\n",
    "        \n",
    "    except Exception as e:\n",
    "        print(\"Error encountered while parsing file: \", file)\n",
    "        return None \n",
    "     \n",
    "    return tonnetz"
   ]
  },
  {
   "cell_type": "code",
   "execution_count": 39,
   "metadata": {},
   "outputs": [
    {
     "name": "stderr",
     "output_type": "stream",
     "text": [
      "C:\\Users\\Admin\\Anaconda3\\envs\\tensorflow\\lib\\site-packages\\librosa\\core\\pitch.py:146: UserWarning: Trying to estimate tuning from empty frequency set.\n",
      "  warnings.warn('Trying to estimate tuning from empty frequency set.')\n"
     ]
    },
    {
     "name": "stdout",
     "output_type": "stream",
     "text": [
      "Finished feature extraction\n"
     ]
    }
   ],
   "source": [
    "# Set the path to the full UrbanSound dataset\n",
    "i=0\n",
    "fulldatasetpath = 'G:/urban_dataset'\n",
    "\n",
    "metadata = pd.read_csv(fulldatasetpath + '/metadata/UrbanSound8K.csv')\n",
    "\n",
    "mfccfeatures = []\n",
    "melfeatures=[]\n",
    "contrastfeatures=[]\n",
    "chromafeatures=[]\n",
    "tonnetzfeatures=[]\n",
    "\n",
    "for index, row in metadata.iterrows():\n",
    "  if i<250: \n",
    "     i+=1\n",
    "     file_name = os.path.join(os.path.abspath(fulldatasetpath),'fold'+str(row[\"fold\"])+'/',str(row[\"slice_file_name\"]))\n",
    "    \n",
    "     class_label = row[\"class\"]\n",
    "     mfccdata = extract_mfcc(file_name)\n",
    "     meldata=extract_mel(file_name)\n",
    "     chromadata=extract_chroma(file_name)\n",
    "     contrastdata=extract_contrast(file_name)\n",
    "     tonnetzdata=extract_tonnetz(file_name)\n",
    "    \n",
    "     mfccfeatures.append([mfccdata, class_label])\n",
    "     melfeatures.append([meldata, class_label])\n",
    "     contrastfeatures.append([contrastdata, class_label])\n",
    "     chromafeatures.append([chromadata, class_label])\n",
    "     tonnetzfeatures.append([tonnetzdata, class_label])\n",
    "\n",
    "# Convert into a Panda dataframe \n",
    "mfccdf = pd.DataFrame(mfccfeatures, columns=['feature','class_label'])\n",
    "meldf = pd.DataFrame(melfeatures, columns=['feature','class_label'])\n",
    "contrastdf = pd.DataFrame(contrastfeatures, columns=['feature','class_label'])\n",
    "chromadf = pd.DataFrame(chromafeatures, columns=['feature','class_label'])\n",
    "tonnetzdf = pd.DataFrame(tonnetzfeatures, columns=['feature','class_label'])\n",
    "\n",
    "print('Finished feature extraction')"
   ]
  },
  {
   "cell_type": "code",
   "execution_count": 63,
   "metadata": {},
   "outputs": [
    {
     "name": "stdout",
     "output_type": "stream",
     "text": [
      "Finished feature extraction\n"
     ]
    }
   ],
   "source": [
    "i=0\n",
    "fulldatasetpath = 'G:/urban_dataset'\n",
    "\n",
    "metadata = pd.read_csv(fulldatasetpath + '/metadata/UrbanSound8K.csv')\n",
    "\n",
    "mfccfeatures1 = []\n",
    "melfeatures1=[]\n",
    "contrastfeatures1=[]\n",
    "chromafeatures1=[]\n",
    "tonnetzfeatures1=[]\n",
    "\n",
    "for index, row in metadata.iterrows():\n",
    "  if i>250 and i<1000: \n",
    "    \n",
    "     file_name = os.path.join(os.path.abspath(fulldatasetpath),'fold'+str(row[\"fold\"])+'/',str(row[\"slice_file_name\"]))\n",
    "    \n",
    "     class_label1 = row[\"class\"]\n",
    "     mfccdata1 = extract_mfcc(file_name)\n",
    "     meldata1=extract_mel(file_name)\n",
    "     chromadata1=extract_chroma(file_name)\n",
    "     contrastdata1=extract_contrast(file_name)\n",
    "     tonnetzdata1=extract_tonnetz(file_name)\n",
    "    \n",
    "     mfccfeatures1.append([mfccdata1, class_label1])\n",
    "     melfeatures1.append([meldata1, class_label1])\n",
    "     contrastfeatures1.append([contrastdata1, class_label1])\n",
    "     chromafeatures1.append([chromadata1, class_label1])\n",
    "     tonnetzfeatures1.append([tonnetzdata1, class_label1])\n",
    "  i+=1\n",
    "# Convert into a Panda dataframe \n",
    "mfccdf1 = pd.DataFrame(mfccfeatures1, columns=['feature','class_label'])\n",
    "meldf1 = pd.DataFrame(melfeatures1, columns=['feature','class_label'])\n",
    "contrastdf1 = pd.DataFrame(contrastfeatures1, columns=['feature','class_label'])\n",
    "chromadf1 = pd.DataFrame(chromafeatures1, columns=['feature','class_label'])\n",
    "tonnetzdf1 = pd.DataFrame(tonnetzfeatures1, columns=['feature','class_label'])\n",
    "\n",
    "print('Finished feature extraction')"
   ]
  },
  {
   "cell_type": "code",
   "execution_count": 40,
   "metadata": {},
   "outputs": [
    {
     "name": "stdout",
     "output_type": "stream",
     "text": [
      "(250,)\n",
      "250\n",
      "(250, 10)\n"
     ]
    }
   ],
   "source": [
    "from sklearn.preprocessing import LabelEncoder\n",
    "from keras.utils import to_categorical\n",
    "\n",
    "# Convert features and corresponding classification labels into numpy arrays\n",
    "mfccX = np.array(mfccdf.feature.tolist())\n",
    "melX = np.array(meldf.feature.tolist())\n",
    "chromaX = np.array(chromadf.feature.tolist())\n",
    "contrastX = np.array(contrastdf.feature.tolist())\n",
    "tonnetzX = np.array(tonnetzdf.feature.tolist())\n",
    "y = np.array(meldf.class_label.tolist())\n",
    "\n",
    "# Encode the classification labels\n",
    "le = LabelEncoder()\n",
    "yy = to_categorical(le.fit_transform(y))\n",
    "print(y.shape)\n",
    "print(len(meldf.class_label.tolist()))\n",
    "print(yy.shape)"
   ]
  },
  {
   "cell_type": "code",
   "execution_count": 65,
   "metadata": {},
   "outputs": [
    {
     "name": "stdout",
     "output_type": "stream",
     "text": [
      "(749,)\n",
      "749\n",
      "(749, 10)\n"
     ]
    }
   ],
   "source": [
    "from sklearn.preprocessing import LabelEncoder\n",
    "from keras.utils import to_categorical\n",
    "\n",
    "# Convert features and corresponding classification labels into numpy arrays\n",
    "mfccX1 = np.array(mfccdf1.feature.tolist())\n",
    "melX1 = np.array(meldf1.feature.tolist())\n",
    "chromaX1 = np.array(chromadf1.feature.tolist())\n",
    "contrastX1 = np.array(contrastdf1.feature.tolist())\n",
    "tonnetzX1 = np.array(tonnetzdf1.feature.tolist())\n",
    "y1 = np.array(meldf1.class_label.tolist())\n",
    "\n",
    "# Encode the classification labels\n",
    "le = LabelEncoder()\n",
    "yy1 = to_categorical(le.fit_transform(y1))\n",
    "print(y1.shape)\n",
    "print(len(meldf1.class_label.tolist()))\n",
    "print(yy1.shape)"
   ]
  },
  {
   "cell_type": "code",
   "execution_count": 67,
   "metadata": {},
   "outputs": [
    {
     "name": "stdout",
     "output_type": "stream",
     "text": [
      "Model: \"sequential_1\"\n",
      "_________________________________________________________________\n",
      "Layer (type)                 Output Shape              Param #   \n",
      "=================================================================\n",
      "dense_1 (Dense)              (None, 40)                1640      \n",
      "_________________________________________________________________\n",
      "dense_2 (Dense)              (None, 400)               16400     \n",
      "_________________________________________________________________\n",
      "dropout_1 (Dropout)          (None, 400)               0         \n",
      "_________________________________________________________________\n",
      "dense_3 (Dense)              (None, 200)               80200     \n",
      "_________________________________________________________________\n",
      "dropout_2 (Dropout)          (None, 200)               0         \n",
      "_________________________________________________________________\n",
      "dense_4 (Dense)              (None, 10)                2010      \n",
      "=================================================================\n",
      "Total params: 100,250\n",
      "Trainable params: 100,250\n",
      "Non-trainable params: 0\n",
      "_________________________________________________________________\n"
     ]
    }
   ],
   "source": [
    "mfccmodel.summary()\n",
    "results=[]\n",
    "score1 = mfccmodel.evaluate(x=mfccX,y=yy, verbose=0)\n",
    "score2 = melmodel.evaluate(x=melX,y=yy, verbose=0)\n",
    "score3 = contrastmodel.evaluate(x=contrastX,y=yy, verbose=0)\n",
    "score4 = chromamodel.evaluate(x=chromaX,y=yy, verbose=0)\n",
    "score5 = tonnetzmodel.evaluate(x=tonnetzX,y=yy, verbose=0)\n",
    "#results.extend([[score1[1],0],[score2[1],0],[score3[1],0],[score4[1],0],[score5[1],0]])\n",
    "#print(results)"
   ]
  },
  {
   "cell_type": "code",
   "execution_count": 72,
   "metadata": {},
   "outputs": [
    {
     "name": "stdout",
     "output_type": "stream",
     "text": [
      "Model: \"sequential_1\"\n",
      "_________________________________________________________________\n",
      "Layer (type)                 Output Shape              Param #   \n",
      "=================================================================\n",
      "dense_1 (Dense)              (None, 40)                1640      \n",
      "_________________________________________________________________\n",
      "dense_2 (Dense)              (None, 400)               16400     \n",
      "_________________________________________________________________\n",
      "dropout_1 (Dropout)          (None, 400)               0         \n",
      "_________________________________________________________________\n",
      "dense_3 (Dense)              (None, 200)               80200     \n",
      "_________________________________________________________________\n",
      "dropout_2 (Dropout)          (None, 200)               0         \n",
      "_________________________________________________________________\n",
      "dense_4 (Dense)              (None, 10)                2010      \n",
      "=================================================================\n",
      "Total params: 100,250\n",
      "Trainable params: 100,250\n",
      "Non-trainable params: 0\n",
      "_________________________________________________________________\n",
      "[[0.936, 0.842], [0.828, 0.731], [0.39200000047683714, 0.3417], [0.28, 0.368], [0.312, 0.1694]]\n"
     ]
    }
   ],
   "source": [
    "mfccmodel.summary()\n",
    "results=[]\n",
    "score11 = mfccmodel.evaluate(x=mfccX1,y=yy1, verbose=0)\n",
    "score21 = melmodel.evaluate(x=melX1,y=yy1, verbose=0)\n",
    "score31 = contrastmodel.evaluate(x=contrastX1,y=yy1, verbose=0)\n",
    "score41 = chromamodel.evaluate(x=chromaX1,y=yy1, verbose=0)\n",
    "score51 = tonnetzmodel.evaluate(x=tonnetzX1,y=yy1, verbose=0)\n",
    "results.extend([[score1[1],0.842],[score2[1],0.7310],[score3[1],0.3417],[score4[1],0.368],[score5[1],0.1694]])\n",
    "print(results)"
   ]
  },
  {
   "cell_type": "code",
   "execution_count": 79,
   "metadata": {},
   "outputs": [
    {
     "data": {
      "image/png": "[encoded data removed]",
      "text/plain": [
       "<Figure size 432x288 with 1 Axes>"
      ]
     },
     "metadata": {
      "needs_background": "light"
     },
     "output_type": "display_data"
    }
   ],
   "source": [
    "# boxplot algorithm comparison\n",
    "names=['MFCC','MEL','CONTRAST','CHROMA','TONNETZ']\n",
    "fig = plt.figure()\n",
    "fig.suptitle('Algorithm Comparison')\n",
    "ax = fig.add_subplot(111)\n",
    "plt.boxplot(results)\n",
    "ax.set_xticklabels(names)\n",
    "plt.show()"
   ]
  },
  {
   "cell_type": "code",
   "execution_count": null,
   "metadata": {},
   "outputs": [],
   "source": []
  }
 ],
 "metadata": {
  "kernelspec": {
   "display_name": "Python 3.6(tensorflow)",
   "language": "python",
   "name": "tensorflow"
  },
  "language_info": {
   "codemirror_mode": {
    "name": "ipython",
    "version": 3
   },
   "file_extension": ".py",
   "mimetype": "text/x-python",
   "name": "python",
   "nbconvert_exporter": "python",
   "pygments_lexer": "ipython3",
   "version": "3.6.9"
  }
 },
 "nbformat": 4,
 "nbformat_minor": 2
}
