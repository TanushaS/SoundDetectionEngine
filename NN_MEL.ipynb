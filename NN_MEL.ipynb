{
 "cells": [
  {
   "cell_type": "code",
   "execution_count": 1,
   "metadata": {},
   "outputs": [
    {
     "name": "stderr",
     "output_type": "stream",
     "text": [
      "Using TensorFlow backend.\n"
     ]
    }
   ],
   "source": [
    "import pandas as pd\n",
    "import os\n",
    "import librosa\n",
    "import numpy as np\n",
    "import tensorflow\n",
    "import keras"
   ]
  },
  {
   "cell_type": "code",
   "execution_count": 2,
   "metadata": {},
   "outputs": [],
   "source": [
    "import struct\n",
    "\n",
    "class WavFileHelper():\n",
    "    \n",
    "    def read_file_properties(self, filename):\n",
    "\n",
    "        wave_file = open(filename,\"rb\")\n",
    "        \n",
    "        riff = wave_file.read(12)\n",
    "        fmt = wave_file.read(36)\n",
    "        \n",
    "        num_channels_string = fmt[10:12]\n",
    "        num_channels = struct.unpack('<H', num_channels_string)[0]\n",
    "\n",
    "        sample_rate_string = fmt[12:16]\n",
    "        sample_rate = struct.unpack(\"<I\",sample_rate_string)[0]\n",
    "        \n",
    "        bit_depth_string = fmt[22:24]\n",
    "        bit_depth = struct.unpack(\"<H\",bit_depth_string)[0]\n",
    "\n",
    "        return (num_channels, sample_rate, bit_depth)\n",
    "wavfilehelper = WavFileHelper() "
   ]
  },
  {
   "cell_type": "code",
   "execution_count": 3,
   "metadata": {},
   "outputs": [],
   "source": [
    "audiodata = []\n",
    "# Set the path to the full UrbanSound dataset \n",
    "fulldatasetpath = 'G:/urban_dataset'\n",
    "\n",
    "metadata = pd.read_csv(fulldatasetpath + '/metadata/UrbanSound8K.csv')\n",
    "\n",
    "\n",
    "for index, row in metadata.iterrows():\n",
    "    \n",
    "    file_name = os.path.join(os.path.abspath('G:/urban_dataset/'),'fold'+str(row[\"fold\"])+'/',str(row[\"slice_file_name\"]))\n",
    "    data = wavfilehelper.read_file_properties(file_name)\n",
    "    audiodata.append(data)\n",
    "\n",
    "# Convert into a Panda dataframe\n",
    "audiodf = pd.DataFrame(audiodata, columns=['num_channels','sample_rate','bit_depth'])"
   ]
  },
  {
   "cell_type": "code",
   "execution_count": 4,
   "metadata": {},
   "outputs": [],
   "source": [
    "def extract_features(file_name):\n",
    "   \n",
    "    try:\n",
    "        audio, sample_rate = librosa.load(file_name, res_type='kaiser_fast') # default is Kaiser_best\n",
    "        mel = np.mean(librosa.feature.melspectrogram(audio, sr=sample_rate).T,axis=0)\n",
    "        \n",
    "    except Exception as e:\n",
    "        print(\"Error encountered while parsing file: \", file)\n",
    "        return None \n",
    "     \n",
    "    return mel"
   ]
  },
  {
   "cell_type": "code",
   "execution_count": 5,
   "metadata": {},
   "outputs": [
    {
     "name": "stdout",
     "output_type": "stream",
     "text": [
      "Finished feature extraction from  8732  files\n"
     ]
    }
   ],
   "source": [
    "# Set the path to the full UrbanSound dataset \n",
    "fulldatasetpath = 'G:/urban_dataset'\n",
    "\n",
    "metadata = pd.read_csv(fulldatasetpath + '/metadata/UrbanSound8K.csv')\n",
    "\n",
    "features = []\n",
    "for index, row in metadata.iterrows():\n",
    "    \n",
    "    file_name = os.path.join(os.path.abspath(fulldatasetpath),'fold'+str(row[\"fold\"])+'/',str(row[\"slice_file_name\"]))\n",
    "    \n",
    "    class_label = row[\"class\"]\n",
    "    data = extract_features(file_name)\n",
    "    \n",
    "    features.append([data, class_label])\n",
    "\n",
    "# Convert into a Panda dataframe \n",
    "featuresdf = pd.DataFrame(features, columns=['feature','class_label'])\n",
    "\n",
    "print('Finished feature extraction from ', len(featuresdf), ' files')"
   ]
  },
  {
   "cell_type": "code",
   "execution_count": 6,
   "metadata": {},
   "outputs": [],
   "source": [
    "from sklearn.preprocessing import LabelEncoder\n",
    "from keras.utils import to_categorical\n",
    "\n",
    "# Convert features and corresponding classification labels into numpy arrays\n",
    "X = np.array(featuresdf.feature.tolist())\n",
    "y = np.array(featuresdf.class_label.tolist())\n",
    "\n",
    "# Encode the classification labels\n",
    "le = LabelEncoder()\n",
    "yy = to_categorical(le.fit_transform(y)) \n",
    "\n",
    "# split the dataset \n",
    "from sklearn.model_selection import train_test_split \n",
    "\n",
    "x_train, x_test, y_train, y_test = train_test_split(X, yy, test_size=0.2, random_state = 42)"
   ]
  },
  {
   "cell_type": "code",
   "execution_count": 7,
   "metadata": {},
   "outputs": [],
   "source": [
    "import tensorflow as tf\n",
    "from keras.models import Sequential\n",
    "from keras.layers import Dense, Dropout,Convolution2D, MaxPooling2D\n",
    "from keras.optimizers import Adam\n",
    "from keras.callbacks import EarlyStopping\n",
    "from keras.models import model_from_json"
   ]
  },
  {
   "cell_type": "code",
   "execution_count": 8,
   "metadata": {},
   "outputs": [],
   "source": [
    "# neural network dimensions\n",
    "n_dim =x_train.shape[1]\n",
    "n_classes = y_train.shape[1]\n",
    "n_hidden_units_1 = n_dim\n",
    "n_hidden_units_2 = 400 # approx n_dim * 2\n",
    "n_hidden_units_3 = 200 # half of layer 2"
   ]
  },
  {
   "cell_type": "code",
   "execution_count": 9,
   "metadata": {},
   "outputs": [
    {
     "name": "stdout",
     "output_type": "stream",
     "text": [
      "128\n",
      "Features: 128 Classes: 10 \n"
     ]
    }
   ],
   "source": [
    "print(n_dim)\n",
    "print(\"Features: {} Classes: {} \".format(n_dim, n_classes))"
   ]
  },
  {
   "cell_type": "code",
   "execution_count": 10,
   "metadata": {},
   "outputs": [],
   "source": [
    "def create_model(activation_function='relu',init_type='normal', kernel_initializer=\"uniform\", optimiser='Adamax', dropout_rate=0.5):\n",
    "    model = Sequential()\n",
    "    # layer 1\n",
    "    #model.add(Convolution2D(n_hidden_units_1, input_dim=n_dim, activation=activation_function,kernel_initializer=\"uniform\"))\n",
    "    #model.add(MaxPooling2D(2,2))\n",
    "    model.add(Dense(n_hidden_units_1, input_dim=n_dim, init=init_type, activation=activation_function))\n",
    "    # layer 2\n",
    "    model.add(Dense(n_hidden_units_2, kernel_initializer=\"uniform\", activation=activation_function))\n",
    "    model.add(Dropout(dropout_rate))\n",
    "    # layer 3\n",
    "    model.add(Dense(n_hidden_units_3, kernel_initializer=\"uniform\" , activation=activation_function))\n",
    "    model.add(Dropout(dropout_rate))\n",
    "    # output layer\n",
    "    model.add(Dense(n_classes, kernel_initializer=\"uniform\", activation='softmax'))\n",
    "    \n",
    "    model.compile(loss='categorical_crossentropy', optimizer=optimiser, metrics=['accuracy'])\n",
    "    return model"
   ]
  },
  {
   "cell_type": "code",
   "execution_count": 11,
   "metadata": {},
   "outputs": [
    {
     "name": "stderr",
     "output_type": "stream",
     "text": [
      "C:\\Users\\Admin\\Anaconda3\\envs\\tensorflow\\lib\\site-packages\\ipykernel_launcher.py:6: UserWarning: Update your `Dense` call to the Keras 2 API: `Dense(128, input_dim=128, activation=\"relu\", kernel_initializer=\"normal\")`\n",
      "  \n"
     ]
    }
   ],
   "source": [
    "model = create_model()\n",
    "earlystop = EarlyStopping(monitor='val_loss', patience=3, verbose=0, mode='auto')"
   ]
  },
  {
   "cell_type": "code",
   "execution_count": 12,
   "metadata": {},
   "outputs": [
    {
     "name": "stdout",
     "output_type": "stream",
     "text": [
      "Model: \"sequential_1\"\n",
      "_________________________________________________________________\n",
      "Layer (type)                 Output Shape              Param #   \n",
      "=================================================================\n",
      "dense_1 (Dense)              (None, 128)               16512     \n",
      "_________________________________________________________________\n",
      "dense_2 (Dense)              (None, 400)               51600     \n",
      "_________________________________________________________________\n",
      "dropout_1 (Dropout)          (None, 400)               0         \n",
      "_________________________________________________________________\n",
      "dense_3 (Dense)              (None, 200)               80200     \n",
      "_________________________________________________________________\n",
      "dropout_2 (Dropout)          (None, 200)               0         \n",
      "_________________________________________________________________\n",
      "dense_4 (Dense)              (None, 10)                2010      \n",
      "=================================================================\n",
      "Total params: 150,322\n",
      "Trainable params: 150,322\n",
      "Non-trainable params: 0\n",
      "_________________________________________________________________\n"
     ]
    }
   ],
   "source": [
    "model.summary()"
   ]
  },
  {
   "cell_type": "code",
   "execution_count": 13,
   "metadata": {},
   "outputs": [
    {
     "name": "stdout",
     "output_type": "stream",
     "text": [
      "Train on 6286 samples, validate on 699 samples\n",
      "Epoch 1/30\n",
      "6286/6286 [==============================] - 5s 748us/step - loss: 2.1183 - acc: 0.3059 - val_loss: 1.9300 - val_acc: 0.4106\n",
      "Epoch 2/30\n",
      "6286/6286 [==============================] - 3s 433us/step - loss: 1.8870 - acc: 0.3872 - val_loss: 1.7500 - val_acc: 0.4421\n",
      "Epoch 3/30\n",
      "6286/6286 [==============================] - 3s 429us/step - loss: 1.7509 - acc: 0.4206 - val_loss: 1.6684 - val_acc: 0.4521\n",
      "Epoch 4/30\n",
      "6286/6286 [==============================] - 3s 496us/step - loss: 1.6496 - acc: 0.4564 - val_loss: 1.6183 - val_acc: 0.4921\n",
      "Epoch 5/30\n",
      "6286/6286 [==============================] - 3s 492us/step - loss: 1.5657 - acc: 0.4795 - val_loss: 1.5174 - val_acc: 0.5007\n",
      "Epoch 6/30\n",
      "6286/6286 [==============================] - 3s 448us/step - loss: 1.4926 - acc: 0.4940 - val_loss: 1.4507 - val_acc: 0.5179\n",
      "Epoch 7/30\n",
      "6286/6286 [==============================] - 3s 426us/step - loss: 1.4558 - acc: 0.5122 - val_loss: 1.4337 - val_acc: 0.5279\n",
      "Epoch 8/30\n",
      "6286/6286 [==============================] - 3s 464us/step - loss: 1.4020 - acc: 0.5313 - val_loss: 1.3905 - val_acc: 0.5665\n",
      "Epoch 9/30\n",
      "6286/6286 [==============================] - 3s 448us/step - loss: 1.3519 - acc: 0.5461 - val_loss: 1.3548 - val_acc: 0.5637\n",
      "Epoch 10/30\n",
      "6286/6286 [==============================] - 3s 460us/step - loss: 1.3172 - acc: 0.5609 - val_loss: 1.3292 - val_acc: 0.6094\n",
      "Epoch 11/30\n",
      "6286/6286 [==============================] - 3s 465us/step - loss: 1.2748 - acc: 0.5765 - val_loss: 1.2979 - val_acc: 0.6037\n",
      "Epoch 12/30\n",
      "6286/6286 [==============================] - 3s 468us/step - loss: 1.2430 - acc: 0.5934 - val_loss: 1.2681 - val_acc: 0.6180\n",
      "Epoch 13/30\n",
      "6286/6286 [==============================] - 3s 492us/step - loss: 1.1901 - acc: 0.6104 - val_loss: 1.2275 - val_acc: 0.6166\n",
      "Epoch 14/30\n",
      "6286/6286 [==============================] - 3s 500us/step - loss: 1.1576 - acc: 0.6289 - val_loss: 1.2041 - val_acc: 0.6309\n",
      "Epoch 15/30\n",
      "6286/6286 [==============================] - 3s 454us/step - loss: 1.1187 - acc: 0.6371 - val_loss: 1.1976 - val_acc: 0.6552\n",
      "Epoch 16/30\n",
      "6286/6286 [==============================] - 3s 469us/step - loss: 1.0842 - acc: 0.6472 - val_loss: 1.1675 - val_acc: 0.6495\n",
      "Epoch 17/30\n",
      "6286/6286 [==============================] - 3s 471us/step - loss: 1.0489 - acc: 0.6554 - val_loss: 1.1516 - val_acc: 0.6652\n",
      "Epoch 18/30\n",
      "6286/6286 [==============================] - 3s 500us/step - loss: 1.0221 - acc: 0.6745 - val_loss: 1.1607 - val_acc: 0.6438\n",
      "Epoch 19/30\n",
      "6286/6286 [==============================] - 3s 514us/step - loss: 0.9962 - acc: 0.6836 - val_loss: 1.1065 - val_acc: 0.6724\n",
      "Epoch 20/30\n",
      "6286/6286 [==============================] - 3s 483us/step - loss: 0.9773 - acc: 0.6915 - val_loss: 1.1110 - val_acc: 0.6810\n",
      "Epoch 21/30\n",
      "6286/6286 [==============================] - 3s 482us/step - loss: 0.9368 - acc: 0.7100 - val_loss: 1.0993 - val_acc: 0.6667\n",
      "Epoch 22/30\n",
      "6286/6286 [==============================] - 3s 486us/step - loss: 0.9205 - acc: 0.7016 - val_loss: 1.0857 - val_acc: 0.6781\n",
      "Epoch 23/30\n",
      "6286/6286 [==============================] - 4s 605us/step - loss: 0.9043 - acc: 0.7138 - val_loss: 1.0993 - val_acc: 0.6810\n",
      "Epoch 24/30\n",
      "6286/6286 [==============================] - 4s 596us/step - loss: 0.8773 - acc: 0.7278 - val_loss: 1.0983 - val_acc: 0.6867\n",
      "Epoch 25/30\n",
      "6286/6286 [==============================] - 3s 490us/step - loss: 0.8519 - acc: 0.7278 - val_loss: 1.0680 - val_acc: 0.6910\n",
      "Epoch 26/30\n",
      "6286/6286 [==============================] - 3s 463us/step - loss: 0.8363 - acc: 0.7323 - val_loss: 1.0457 - val_acc: 0.6910\n",
      "Epoch 27/30\n",
      "6286/6286 [==============================] - 3s 468us/step - loss: 0.8188 - acc: 0.7416 - val_loss: 1.0677 - val_acc: 0.6910\n",
      "Epoch 28/30\n",
      "6286/6286 [==============================] - 3s 398us/step - loss: 0.8069 - acc: 0.7405 - val_loss: 1.1310 - val_acc: 0.6953\n",
      "Epoch 29/30\n",
      "6286/6286 [==============================] - 2s 346us/step - loss: 0.7923 - acc: 0.7482 - val_loss: 1.0681 - val_acc: 0.6910\n"
     ]
    }
   ],
   "source": [
    "history = model.fit(x_train, y_train, epochs=30, validation_split=0.1, callbacks=[earlystop], batch_size=24)"
   ]
  },
  {
   "cell_type": "code",
   "execution_count": 14,
   "metadata": {},
   "outputs": [
    {
     "name": "stdout",
     "output_type": "stream",
     "text": [
      "1747/1747 [==============================] - 0s 125us/step\n",
      "ACCURACY: 73.09673725364544\n",
      "SCORE: 0.9181011054061383\n"
     ]
    }
   ],
   "source": [
    "score, accuracy = model.evaluate(x = x_test, y = y_test , verbose = 1)\n",
    "print(\"ACCURACY:\",(accuracy*100))\n",
    "print(\"SCORE:\",score)"
   ]
  },
  {
   "cell_type": "code",
   "execution_count": 15,
   "metadata": {},
   "outputs": [
    {
     "name": "stdout",
     "output_type": "stream",
     "text": [
      "Saved model to disk\n"
     ]
    }
   ],
   "source": [
    "model.save(\"nn_mel_model.h5\")\n",
    "print(\"Saved model to disk\")"
   ]
  },
  {
   "cell_type": "code",
   "execution_count": 16,
   "metadata": {},
   "outputs": [
    {
     "name": "stdout",
     "output_type": "stream",
     "text": [
      "Model: \"sequential_1\"\n",
      "_________________________________________________________________\n",
      "Layer (type)                 Output Shape              Param #   \n",
      "=================================================================\n",
      "dense_1 (Dense)              (None, 128)               16512     \n",
      "_________________________________________________________________\n",
      "dense_2 (Dense)              (None, 400)               51600     \n",
      "_________________________________________________________________\n",
      "dropout_1 (Dropout)          (None, 400)               0         \n",
      "_________________________________________________________________\n",
      "dense_3 (Dense)              (None, 200)               80200     \n",
      "_________________________________________________________________\n",
      "dropout_2 (Dropout)          (None, 200)               0         \n",
      "_________________________________________________________________\n",
      "dense_4 (Dense)              (None, 10)                2010      \n",
      "=================================================================\n",
      "Total params: 150,322\n",
      "Trainable params: 150,322\n",
      "Non-trainable params: 0\n",
      "_________________________________________________________________\n",
      "acc: 73.10%\n"
     ]
    }
   ],
   "source": [
    "from numpy import loadtxt\n",
    "from keras.models import load_model\n",
    " \n",
    "# load model\n",
    "model = load_model('nn_mel_model.h5')\n",
    "# summarize model.\n",
    "model.summary()\n",
    "# load dataset\n",
    "\n",
    "# evaluate the model\n",
    "score = model.evaluate(x=x_test,y=y_test, verbose=0)\n",
    "print(\"%s: %.2f%%\" % (model.metrics_names[1], score[1]*100))"
   ]
  },
  {
   "cell_type": "code",
   "execution_count": null,
   "metadata": {},
   "outputs": [],
   "source": []
  }
 ],
 "metadata": {
  "kernelspec": {
   "display_name": "Python 3.6(tensorflow)",
   "language": "python",
   "name": "tensorflow"
  },
  "language_info": {
   "codemirror_mode": {
    "name": "ipython",
    "version": 3
   },
   "file_extension": ".py",
   "mimetype": "text/x-python",
   "name": "python",
   "nbconvert_exporter": "python",
   "pygments_lexer": "ipython3",
   "version": "3.6.9"
  }
 },
 "nbformat": 4,
 "nbformat_minor": 2
}
