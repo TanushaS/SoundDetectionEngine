{
 "cells": [
  {
   "cell_type": "code",
   "execution_count": 1,
   "metadata": {},
   "outputs": [],
   "source": [
    "import pandas as pd\n",
    "import os\n",
    "import librosa\n",
    "import numpy as np\n",
    "import tensorflow as tf"
   ]
  },
  {
   "cell_type": "code",
   "execution_count": 2,
   "metadata": {},
   "outputs": [],
   "source": [
    "def extract_features(file_name):\n",
    "   \n",
    "    try:\n",
    "        audio, sample_rate = librosa.load(file_name, res_type='kaiser_fast')\n",
    "        stft = np.abs(librosa.stft(audio))\n",
    "        mfccs = np.mean(librosa.feature.mfcc(y=audio, sr=sample_rate, n_mfcc=40).T,axis=0)\n",
    "        chroma = np.mean(librosa.feature.chroma_stft(S=stft, sr=sample_rate).T,axis=0)\n",
    "        mel = np.mean(librosa.feature.melspectrogram(audio, sr=sample_rate).T,axis=0)\n",
    "        contrast = np.mean(librosa.feature.spectral_contrast(S=stft, sr=sample_rate).T,axis=0)\n",
    "        tonnetz = np.mean(librosa.feature.tonnetz(y=librosa.effects.harmonic(audio),\n",
    "        sr=sample_rate).T,axis=0)\n",
    "        \n",
    "    except Exception as e:\n",
    "        print(\"Error encountered while parsing file: \", file_name)\n",
    "        return None \n",
    "     \n",
    "    return mfccs,chroma,mel,contrast,tonnetz"
   ]
  },
  {
   "cell_type": "code",
   "execution_count": 3,
   "metadata": {},
   "outputs": [
    {
     "name": "stderr",
     "output_type": "stream",
     "text": [
      "C:\\Users\\Admin\\Anaconda3\\envs\\tensorflow\\lib\\site-packages\\librosa\\core\\pitch.py:146: UserWarning: Trying to estimate tuning from empty frequency set.\n",
      "  warnings.warn('Trying to estimate tuning from empty frequency set.')\n"
     ]
    },
    {
     "name": "stdout",
     "output_type": "stream",
     "text": [
      "Finished feature extraction from  8732  files\n"
     ]
    }
   ],
   "source": [
    "fulldatasetpath = 'G:/urban_dataset/'\n",
    "\n",
    "metadata = pd.read_csv(fulldatasetpath + '/metadata/UrbanSound8K.csv')\n",
    "\n",
    "features = []\n",
    "for index, row in metadata.iterrows():\n",
    "    \n",
    "    file_name = os.path.join(os.path.abspath(fulldatasetpath),'fold'+str(row[\"fold\"])+'/',str(row[\"slice_file_name\"]))\n",
    "    \n",
    "    class_label = row[\"class\"]\n",
    "    mfccs,chroma,mel,contrast,tonnetz = extract_features(file_name)\n",
    "    features.append([mfccs,chroma,mel,contrast,tonnetz,class_label])\n",
    "\n",
    "featuresdf = pd.DataFrame(features, columns=['mfccs','chroma','mel','contrast','tonnetz','class_label'])\n",
    "#end = timeit.timeit()\n",
    "#print(\"Time taken to extract features : \",end-start)\n",
    "print('Finished feature extraction from ', len(featuresdf), ' files')"
   ]
  },
  {
   "cell_type": "code",
   "execution_count": 4,
   "metadata": {},
   "outputs": [
    {
     "name": "stderr",
     "output_type": "stream",
     "text": [
      "Using TensorFlow backend.\n"
     ]
    }
   ],
   "source": [
    "from sklearn.preprocessing import LabelEncoder\n",
    "from keras.utils import to_categorical\n",
    "\n",
    "# Convert features and corresponding classification labels into numpy arrays\n",
    "only_features=np.concatenate((featuresdf.mfccs.tolist(),featuresdf.chroma.tolist(),featuresdf.mel.tolist(),featuresdf.contrast.tolist(),featuresdf.tonnetz.tolist()),axis=1)\n",
    "X = np.array(only_features)\n",
    "y = np.array(featuresdf.class_label.tolist())\n",
    "\n",
    "# Encode the classification labels\n",
    "le = LabelEncoder()\n",
    "yy = to_categorical(le.fit_transform(y)) \n",
    "\n",
    "# split the dataset \n",
    "from sklearn.model_selection import train_test_split \n",
    "\n",
    "train_x, test_x, train_y, test_y = train_test_split(X, yy, test_size=0.2, random_state = 42)"
   ]
  },
  {
   "cell_type": "code",
   "execution_count": 5,
   "metadata": {},
   "outputs": [],
   "source": [
    "import tensorflow as tf\n",
    "from keras.models import Sequential\n",
    "from keras.layers import Dense, Dropout,Convolution2D, MaxPooling2D\n",
    "from keras.optimizers import Adam\n",
    "from keras.callbacks import EarlyStopping\n",
    "from keras.models import model_from_json"
   ]
  },
  {
   "cell_type": "code",
   "execution_count": 6,
   "metadata": {},
   "outputs": [],
   "source": [
    "# neural network dimensions\n",
    "n_dim = train_x.shape[1]\n",
    "n_classes = train_y.shape[1]\n",
    "n_hidden_units_1 = n_dim\n",
    "n_hidden_units_2 = 400 # approx n_dim * 2\n",
    "n_hidden_units_3 = 200 # half of layer 2"
   ]
  },
  {
   "cell_type": "code",
   "execution_count": 7,
   "metadata": {},
   "outputs": [
    {
     "name": "stdout",
     "output_type": "stream",
     "text": [
      "193\n",
      "Features: 193 Classes: 10 \n"
     ]
    }
   ],
   "source": [
    "print(n_dim)\n",
    "print(\"Features: {} Classes: {} \".format(n_dim, n_classes))"
   ]
  },
  {
   "cell_type": "code",
   "execution_count": 8,
   "metadata": {},
   "outputs": [],
   "source": [
    "def create_model(activation_function='relu',init_type='normal', kernel_initializer=\"uniform\", optimiser='Adamax', dropout_rate=0.5):\n",
    "    model = Sequential()\n",
    "    # layer 1\n",
    "    #model.add(Convolution2D(n_hidden_units_1, input_dim=n_dim, activation=activation_function,kernel_initializer=\"uniform\"))\n",
    "    #model.add(MaxPooling2D(2,2))\n",
    "    model.add(Dense(n_hidden_units_1, input_dim=n_dim, init=init_type, activation=activation_function))\n",
    "    # layer 2\n",
    "    model.add(Dense(n_hidden_units_2, kernel_initializer=\"uniform\", activation=activation_function))\n",
    "    model.add(Dropout(dropout_rate))\n",
    "    # layer 3\n",
    "    model.add(Dense(n_hidden_units_3, kernel_initializer=\"uniform\" , activation=activation_function))\n",
    "    model.add(Dropout(dropout_rate))\n",
    "    # output layer\n",
    "    model.add(Dense(n_classes, kernel_initializer=\"uniform\", activation='softmax'))\n",
    "    \n",
    "    model.compile(loss='categorical_crossentropy', optimizer=optimiser, metrics=['accuracy'])\n",
    "    return model"
   ]
  },
  {
   "cell_type": "code",
   "execution_count": 9,
   "metadata": {},
   "outputs": [
    {
     "name": "stderr",
     "output_type": "stream",
     "text": [
      "C:\\Users\\Admin\\Anaconda3\\envs\\tensorflow\\lib\\site-packages\\ipykernel_launcher.py:6: UserWarning: Update your `Dense` call to the Keras 2 API: `Dense(193, input_dim=193, activation=\"relu\", kernel_initializer=\"normal\")`\n",
      "  \n"
     ]
    }
   ],
   "source": [
    "model = create_model()\n",
    "earlystop = EarlyStopping(monitor='val_loss', patience=3, verbose=0, mode='auto')"
   ]
  },
  {
   "cell_type": "code",
   "execution_count": 10,
   "metadata": {},
   "outputs": [
    {
     "name": "stdout",
     "output_type": "stream",
     "text": [
      "Model: \"sequential_1\"\n",
      "_________________________________________________________________\n",
      "Layer (type)                 Output Shape              Param #   \n",
      "=================================================================\n",
      "dense_1 (Dense)              (None, 193)               37442     \n",
      "_________________________________________________________________\n",
      "dense_2 (Dense)              (None, 400)               77600     \n",
      "_________________________________________________________________\n",
      "dropout_1 (Dropout)          (None, 400)               0         \n",
      "_________________________________________________________________\n",
      "dense_3 (Dense)              (None, 200)               80200     \n",
      "_________________________________________________________________\n",
      "dropout_2 (Dropout)          (None, 200)               0         \n",
      "_________________________________________________________________\n",
      "dense_4 (Dense)              (None, 10)                2010      \n",
      "=================================================================\n",
      "Total params: 197,252\n",
      "Trainable params: 197,252\n",
      "Non-trainable params: 0\n",
      "_________________________________________________________________\n"
     ]
    }
   ],
   "source": [
    "model.summary()"
   ]
  },
  {
   "cell_type": "code",
   "execution_count": 11,
   "metadata": {},
   "outputs": [
    {
     "name": "stdout",
     "output_type": "stream",
     "text": [
      "Train on 6286 samples, validate on 699 samples\n",
      "Epoch 1/30\n",
      "6286/6286 [==============================] - 6s 991us/step - loss: 1.9302 - acc: 0.3341 - val_loss: 1.4589 - val_acc: 0.4964\n",
      "Epoch 2/30\n",
      "6286/6286 [==============================] - 3s 432us/step - loss: 1.4402 - acc: 0.5005 - val_loss: 1.2435 - val_acc: 0.5751\n",
      "Epoch 3/30\n",
      "6286/6286 [==============================] - 3s 420us/step - loss: 1.2227 - acc: 0.5816 - val_loss: 1.0960 - val_acc: 0.6423\n",
      "Epoch 4/30\n",
      "6286/6286 [==============================] - 3s 449us/step - loss: 1.0821 - acc: 0.6357 - val_loss: 0.9547 - val_acc: 0.6710\n",
      "Epoch 5/30\n",
      "6286/6286 [==============================] - 3s 410us/step - loss: 0.9461 - acc: 0.6842 - val_loss: 0.8640 - val_acc: 0.7182\n",
      "Epoch 6/30\n",
      "6286/6286 [==============================] - 3s 404us/step - loss: 0.8364 - acc: 0.7227 - val_loss: 0.7600 - val_acc: 0.7639\n",
      "Epoch 7/30\n",
      "6286/6286 [==============================] - 3s 410us/step - loss: 0.7486 - acc: 0.7604 - val_loss: 0.7171 - val_acc: 0.7811\n",
      "Epoch 8/30\n",
      "6286/6286 [==============================] - 3s 405us/step - loss: 0.6613 - acc: 0.7870 - val_loss: 0.6494 - val_acc: 0.8040\n",
      "Epoch 9/30\n",
      "6286/6286 [==============================] - 3s 413us/step - loss: 0.6100 - acc: 0.8034 - val_loss: 0.6439 - val_acc: 0.8011\n",
      "Epoch 10/30\n",
      "6286/6286 [==============================] - 3s 400us/step - loss: 0.5485 - acc: 0.8225 - val_loss: 0.5453 - val_acc: 0.8426\n",
      "Epoch 11/30\n",
      "6286/6286 [==============================] - 3s 405us/step - loss: 0.5003 - acc: 0.8347 - val_loss: 0.6163 - val_acc: 0.8040\n",
      "Epoch 12/30\n",
      "6286/6286 [==============================] - 3s 398us/step - loss: 0.4671 - acc: 0.8444 - val_loss: 0.4950 - val_acc: 0.8426\n",
      "Epoch 13/30\n",
      "6286/6286 [==============================] - 3s 398us/step - loss: 0.4198 - acc: 0.8597 - val_loss: 0.4797 - val_acc: 0.8498\n",
      "Epoch 14/30\n",
      "6286/6286 [==============================] - 2s 395us/step - loss: 0.3980 - acc: 0.8707 - val_loss: 0.4748 - val_acc: 0.8612\n",
      "Epoch 15/30\n",
      "6286/6286 [==============================] - 3s 403us/step - loss: 0.3717 - acc: 0.8789 - val_loss: 0.4613 - val_acc: 0.8512\n",
      "Epoch 16/30\n",
      "6286/6286 [==============================] - 2s 395us/step - loss: 0.3429 - acc: 0.8855 - val_loss: 0.4251 - val_acc: 0.8684\n",
      "Epoch 17/30\n",
      "6286/6286 [==============================] - 3s 398us/step - loss: 0.3114 - acc: 0.8933 - val_loss: 0.3861 - val_acc: 0.8698\n",
      "Epoch 18/30\n",
      "6286/6286 [==============================] - 2s 395us/step - loss: 0.2933 - acc: 0.9017 - val_loss: 0.4110 - val_acc: 0.8627\n",
      "Epoch 19/30\n",
      "6286/6286 [==============================] - 3s 411us/step - loss: 0.2891 - acc: 0.9063 - val_loss: 0.4143 - val_acc: 0.8727\n",
      "Epoch 20/30\n",
      "6286/6286 [==============================] - 3s 435us/step - loss: 0.2559 - acc: 0.9158 - val_loss: 0.3893 - val_acc: 0.8712\n"
     ]
    }
   ],
   "source": [
    "history = model.fit(train_x, train_y, epochs=30, validation_split=0.1, callbacks=[earlystop], batch_size=24)"
   ]
  },
  {
   "cell_type": "code",
   "execution_count": 15,
   "metadata": {},
   "outputs": [],
   "source": [
    "import keras\n",
    "from matplotlib import pyplot as plt\n"
   ]
  },
  {
   "cell_type": "code",
   "execution_count": 16,
   "metadata": {},
   "outputs": [
    {
     "data": {
      "image/png": "[encoded data removed]",
      "text/plain": [
       "<Figure size 432x288 with 1 Axes>"
      ]
     },
     "metadata": {
      "needs_background": "light"
     },
     "output_type": "display_data"
    }
   ],
   "source": [
    "plt.plot(history.history['acc'])\n",
    "plt.plot(history.history['val_acc'])\n",
    "plt.title('model accuracy')\n",
    "plt.ylabel('accuracy')\n",
    "plt.xlabel('epoch')\n",
    "plt.legend(['train','val'], loc='upper left')\n",
    "plt.show()"
   ]
  },
  {
   "cell_type": "code",
   "execution_count": 17,
   "metadata": {},
   "outputs": [
    {
     "data": {
      "image/png": "[encoded data removed]",
      "text/plain": [
       "<Figure size 432x288 with 1 Axes>"
      ]
     },
     "metadata": {
      "needs_background": "light"
     },
     "output_type": "display_data"
    }
   ],
   "source": [
    "plt.plot(history.history['loss'])\n",
    "plt.plot(history.history['val_loss'])\n",
    "plt.title('model loss')\n",
    "plt.ylabel('loss')\n",
    "plt.xlabel('epoch')\n",
    "plt.legend(['train','val'], loc='upper left')\n",
    "plt.show()"
   ]
  },
  {
   "cell_type": "code",
   "execution_count": 18,
   "metadata": {},
   "outputs": [
    {
     "name": "stdout",
     "output_type": "stream",
     "text": [
      "1747/1747 [==============================] - 0s 161us/step\n"
     ]
    }
   ],
   "source": [
    "score, accuracy = model.evaluate(x = test_x, y = test_y , verbose = 1)"
   ]
  },
  {
   "cell_type": "code",
   "execution_count": 19,
   "metadata": {},
   "outputs": [
    {
     "name": "stdout",
     "output_type": "stream",
     "text": [
      "ACCURACY: 0.8855180311489597 \tSCORE: 0.3645187386135135\n"
     ]
    }
   ],
   "source": [
    "print('ACCURACY:',accuracy,'\\tSCORE:', score)"
   ]
  },
  {
   "cell_type": "code",
   "execution_count": 20,
   "metadata": {},
   "outputs": [
    {
     "name": "stdout",
     "output_type": "stream",
     "text": [
      "Saved model to disk\n"
     ]
    }
   ],
   "source": [
    "model.save(\"NN_model.h5\")\n",
    "print(\"Saved model to disk\")"
   ]
  },
  {
   "cell_type": "code",
   "execution_count": 21,
   "metadata": {},
   "outputs": [
    {
     "name": "stdout",
     "output_type": "stream",
     "text": [
      "Model: \"sequential_1\"\n",
      "_________________________________________________________________\n",
      "Layer (type)                 Output Shape              Param #   \n",
      "=================================================================\n",
      "dense_1 (Dense)              (None, 193)               37442     \n",
      "_________________________________________________________________\n",
      "dense_2 (Dense)              (None, 400)               77600     \n",
      "_________________________________________________________________\n",
      "dropout_1 (Dropout)          (None, 400)               0         \n",
      "_________________________________________________________________\n",
      "dense_3 (Dense)              (None, 200)               80200     \n",
      "_________________________________________________________________\n",
      "dropout_2 (Dropout)          (None, 200)               0         \n",
      "_________________________________________________________________\n",
      "dense_4 (Dense)              (None, 10)                2010      \n",
      "=================================================================\n",
      "Total params: 197,252\n",
      "Trainable params: 197,252\n",
      "Non-trainable params: 0\n",
      "_________________________________________________________________\n",
      "acc: 88.55%\n"
     ]
    }
   ],
   "source": [
    "# load and evaluate a saved model\n",
    "from numpy import loadtxt\n",
    "from keras.models import load_model\n",
    " \n",
    "# load model\n",
    "model = load_model('NN_model.h5')\n",
    "# summarize model.\n",
    "model.summary()\n",
    "# load dataset\n",
    "\n",
    "# evaluate the model\n",
    "score = model.evaluate(x=test_x,y=test_y, verbose=0)\n",
    "print(\"%s: %.2f%%\" % (model.metrics_names[1], score[1]*100))"
   ]
  },
  {
   "cell_type": "code",
   "execution_count": null,
   "metadata": {},
   "outputs": [],
   "source": []
  }
 ],
 "metadata": {
  "kernelspec": {
   "display_name": "Python 3",
   "language": "python",
   "name": "python3"
  },
  "language_info": {
   "codemirror_mode": {
    "name": "ipython",
    "version": 3
   },
   "file_extension": ".py",
   "mimetype": "text/x-python",
   "name": "python",
   "nbconvert_exporter": "python",
   "pygments_lexer": "ipython3",
   "version": "3.6.9"
  }
 },
 "nbformat": 4,
 "nbformat_minor": 2
}
